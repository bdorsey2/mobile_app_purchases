{
 "cells": [
  {
   "cell_type": "markdown",
   "metadata": {},
   "source": [
    "# EDA on Events & Sessions data\n",
    "\n",
    "## Testing db connection & reading in data"
   ]
  },
  {
   "cell_type": "code",
   "execution_count": 1,
   "metadata": {
    "ExecuteTime": {
     "end_time": "2019-02-25T01:53:19.200688Z",
     "start_time": "2019-02-25T01:53:16.860110Z"
    }
   },
   "outputs": [],
   "source": [
    "import psycopg2\n",
    "import pandas as pd\n",
    "import numpy as np\n",
    "import zipfile\n",
    "\n",
    "import matplotlib.pyplot as plt\n",
    "import seaborn as sns\n",
    "import warnings\n",
    "warnings.filterwarnings('ignore')\n",
    "%matplotlib inline\n",
    "\n",
    "from IPython.core.pylabtools import figsize\n",
    "import scipy.stats as stats"
   ]
  },
  {
   "cell_type": "code",
   "execution_count": 3,
   "metadata": {
    "ExecuteTime": {
     "end_time": "2019-02-19T02:15:30.286416Z",
     "start_time": "2019-02-19T02:15:30.010140Z"
    }
   },
   "outputs": [],
   "source": [
    "conn = psycopg2.connect(dbname='ml2usfdb', user='ml2usf', password='weisanbri', \n",
    "                        host='ml2dbinstance.cnvuzu0uiiq9.us-west-2.rds.amazonaws.com', port='5432')"
   ]
  },
  {
   "cell_type": "code",
   "execution_count": 4,
   "metadata": {
    "ExecuteTime": {
     "end_time": "2019-02-19T02:15:30.456117Z",
     "start_time": "2019-02-19T02:15:30.446746Z"
    }
   },
   "outputs": [
    {
     "data": {
      "text/plain": [
       "<connection object at 0x10e094420; dsn: 'user=ml2usf password=xxx dbname=ml2usfdb host=ml2dbinstance.cnvuzu0uiiq9.us-west-2.rds.amazonaws.com port=5432', closed: 0>"
      ]
     },
     "execution_count": 4,
     "metadata": {},
     "output_type": "execute_result"
    }
   ],
   "source": [
    "conn"
   ]
  },
  {
   "cell_type": "code",
   "execution_count": null,
   "metadata": {},
   "outputs": [],
   "source": [
    "# pd.read_sql('select * from sessions where is_mau != true and is_wau != true;', conn)\n",
    "# events_df = pd.read_sql('select * from events where event == 8', conn)"
   ]
  },
  {
   "cell_type": "code",
   "execution_count": 6,
   "metadata": {
    "ExecuteTime": {
     "end_time": "2019-02-19T02:18:11.000756Z",
     "start_time": "2019-02-19T02:18:10.993904Z"
    }
   },
   "outputs": [],
   "source": [
    "# events_types = {'app_id': np.uint32, 'session_id': np.uint64, 'event': np.unicode_,\n",
    "#                 'event_timestamp': np.uint64, 'event_value': np.float16, 'user_id_hash': np.unicode_\n",
    "#                }\n",
    "\n",
    "# events_df = pd.read_pickle('events_df.pkl')\n",
    "# events_df = pd.read_csv('./events.csv', usecols=events_types.keys(), dtype=events_types)"
   ]
  },
  {
   "cell_type": "code",
   "execution_count": null,
   "metadata": {
    "ExecuteTime": {
     "start_time": "2019-02-25T01:53:22.336Z"
    }
   },
   "outputs": [],
   "source": [
    "events_df = pd.read_csv('../events/events.csv')"
   ]
  },
  {
   "cell_type": "code",
   "execution_count": null,
   "metadata": {
    "ExecuteTime": {
     "start_time": "2019-02-25T01:53:24.497Z"
    }
   },
   "outputs": [],
   "source": [
    "events_df.head()"
   ]
  },
  {
   "cell_type": "code",
   "execution_count": null,
   "metadata": {
    "ExecuteTime": {
     "start_time": "2019-02-25T01:53:25.817Z"
    }
   },
   "outputs": [],
   "source": [
    "events_df.info(memory_usage='deep')"
   ]
  },
  {
   "cell_type": "code",
   "execution_count": null,
   "metadata": {
    "ExecuteTime": {
     "start_time": "2019-02-25T01:53:36.048Z"
    }
   },
   "outputs": [],
   "source": [
    "sessions_types = {'app_id': np.uint64, 'session_id': np.uint64, 'start_timestamp': np.uint32, 'timezone': 'category', \n",
    "                  'previous_sessions_duration': np.uint32, 'timezone_offset': np.float64,\n",
    "                  'user_created_timestamp': np.uint64, 'is_user_first_session': 'category', \n",
    "                  'is_session': 'category', 'is_developer': 'category', 'is_wau': 'category', 'is_mau': 'category',\n",
    "                  'country': 'category', 'city': 'category', 'os_name': 'category',\n",
    "                  'session_index': np.uint32, 'user_id_hash': np.unicode_\n",
    "                 }\n",
    "\n",
    "sessions_df = pd.read_csv('../sessions/sessions.csv', usecols=sessions_types.keys(), dtype=sessions_types)"
   ]
  },
  {
   "cell_type": "code",
   "execution_count": null,
   "metadata": {
    "ExecuteTime": {
     "start_time": "2019-02-25T01:53:37.768Z"
    }
   },
   "outputs": [],
   "source": [
    "sessions_df.info(memory_usage='deep')"
   ]
  },
  {
   "cell_type": "code",
   "execution_count": null,
   "metadata": {
    "ExecuteTime": {
     "start_time": "2019-02-25T01:53:39.874Z"
    },
    "scrolled": true
   },
   "outputs": [],
   "source": [
    "sessions_df.head()"
   ]
  },
  {
   "cell_type": "code",
   "execution_count": null,
   "metadata": {
    "ExecuteTime": {
     "start_time": "2019-02-25T01:54:06.168Z"
    }
   },
   "outputs": [],
   "source": [
    "sessions_df = sessions_df.loc[(sessions_df['is_wau'] == 'false') & \n",
    "                              (sessions_df['is_mau'] == 'false') & \n",
    "                              (sessions_df['is_developer'] == 'false')]"
   ]
  },
  {
   "cell_type": "code",
   "execution_count": 16,
   "metadata": {
    "ExecuteTime": {
     "end_time": "2019-02-19T02:22:57.260560Z",
     "start_time": "2019-02-19T02:22:57.256488Z"
    },
    "scrolled": false
   },
   "outputs": [],
   "source": [
    "# events_df.to_pickle('events_df.pkl')\n",
    "# sessions_df.to_pickle('sessions_df.pkl')"
   ]
  },
  {
   "cell_type": "code",
   "execution_count": 86,
   "metadata": {
    "ExecuteTime": {
     "end_time": "2019-02-19T01:34:22.837264Z",
     "start_time": "2019-02-19T01:34:21.769160Z"
    }
   },
   "outputs": [],
   "source": [
    "# events_df = pd.read_pickle('events_df.pkl')\n",
    "sessions_df = pd.read_pickle('sessions_df.pkl')"
   ]
  },
  {
   "cell_type": "code",
   "execution_count": 87,
   "metadata": {
    "ExecuteTime": {
     "end_time": "2019-02-19T01:34:30.217192Z",
     "start_time": "2019-02-19T01:34:30.184648Z"
    },
    "scrolled": true
   },
   "outputs": [
    {
     "data": {
      "text/html": [
       "<div>\n",
       "<style scoped>\n",
       "    .dataframe tbody tr th:only-of-type {\n",
       "        vertical-align: middle;\n",
       "    }\n",
       "\n",
       "    .dataframe tbody tr th {\n",
       "        vertical-align: top;\n",
       "    }\n",
       "\n",
       "    .dataframe thead th {\n",
       "        text-align: right;\n",
       "    }\n",
       "</style>\n",
       "<table border=\"1\" class=\"dataframe\">\n",
       "  <thead>\n",
       "    <tr style=\"text-align: right;\">\n",
       "      <th></th>\n",
       "      <th>app_id</th>\n",
       "      <th>session_id</th>\n",
       "      <th>start_timestamp</th>\n",
       "      <th>timezone</th>\n",
       "      <th>previous_sessions_duration</th>\n",
       "      <th>user_created_timestamp</th>\n",
       "      <th>is_user_first_session</th>\n",
       "      <th>is_session</th>\n",
       "      <th>is_developer</th>\n",
       "      <th>is_wau</th>\n",
       "      <th>is_mau</th>\n",
       "      <th>country</th>\n",
       "      <th>city</th>\n",
       "      <th>os_name</th>\n",
       "      <th>session_index</th>\n",
       "      <th>user_id_hash</th>\n",
       "    </tr>\n",
       "  </thead>\n",
       "  <tbody>\n",
       "    <tr>\n",
       "      <th>0</th>\n",
       "      <td>4724682771660800</td>\n",
       "      <td>5558845121177764917</td>\n",
       "      <td>322105316</td>\n",
       "      <td>Asia/Manila</td>\n",
       "      <td>25837591</td>\n",
       "      <td>1538874289458</td>\n",
       "      <td>false</td>\n",
       "      <td>true</td>\n",
       "      <td>false</td>\n",
       "      <td>false</td>\n",
       "      <td>false</td>\n",
       "      <td>PH</td>\n",
       "      <td>makati</td>\n",
       "      <td>Android OS</td>\n",
       "      <td>30</td>\n",
       "      <td>9943447915df3a45fd6720a026af905b6da6b56a37701b...</td>\n",
       "    </tr>\n",
       "    <tr>\n",
       "      <th>1</th>\n",
       "      <td>4724682771660800</td>\n",
       "      <td>2201961907282901522</td>\n",
       "      <td>1819718029</td>\n",
       "      <td>Asia/Manila</td>\n",
       "      <td>35050130</td>\n",
       "      <td>1538874289458</td>\n",
       "      <td>false</td>\n",
       "      <td>true</td>\n",
       "      <td>false</td>\n",
       "      <td>false</td>\n",
       "      <td>false</td>\n",
       "      <td>PH</td>\n",
       "      <td>quezon city</td>\n",
       "      <td>Android OS</td>\n",
       "      <td>47</td>\n",
       "      <td>9943447915df3a45fd6720a026af905b6da6b56a37701b...</td>\n",
       "    </tr>\n",
       "    <tr>\n",
       "      <th>2</th>\n",
       "      <td>4724682771660800</td>\n",
       "      <td>18781111175537580</td>\n",
       "      <td>1617276698</td>\n",
       "      <td>Asia/Manila</td>\n",
       "      <td>11343848</td>\n",
       "      <td>1538874289458</td>\n",
       "      <td>false</td>\n",
       "      <td>true</td>\n",
       "      <td>false</td>\n",
       "      <td>false</td>\n",
       "      <td>false</td>\n",
       "      <td>PH</td>\n",
       "      <td>makati</td>\n",
       "      <td>Android OS</td>\n",
       "      <td>10</td>\n",
       "      <td>9943447915df3a45fd6720a026af905b6da6b56a37701b...</td>\n",
       "    </tr>\n",
       "    <tr>\n",
       "      <th>3</th>\n",
       "      <td>4724682771660800</td>\n",
       "      <td>1477540082628742048</td>\n",
       "      <td>2522451042</td>\n",
       "      <td>Asia/Manila</td>\n",
       "      <td>13499724</td>\n",
       "      <td>1538874289458</td>\n",
       "      <td>false</td>\n",
       "      <td>true</td>\n",
       "      <td>false</td>\n",
       "      <td>false</td>\n",
       "      <td>false</td>\n",
       "      <td>PH</td>\n",
       "      <td>davao city</td>\n",
       "      <td>Android OS</td>\n",
       "      <td>13</td>\n",
       "      <td>9943447915df3a45fd6720a026af905b6da6b56a37701b...</td>\n",
       "    </tr>\n",
       "    <tr>\n",
       "      <th>4</th>\n",
       "      <td>4724682771660800</td>\n",
       "      <td>8184875317380844086</td>\n",
       "      <td>778366264</td>\n",
       "      <td>Asia/Manila</td>\n",
       "      <td>32788010</td>\n",
       "      <td>1538874289458</td>\n",
       "      <td>false</td>\n",
       "      <td>true</td>\n",
       "      <td>false</td>\n",
       "      <td>false</td>\n",
       "      <td>false</td>\n",
       "      <td>PH</td>\n",
       "      <td>makati</td>\n",
       "      <td>Android OS</td>\n",
       "      <td>41</td>\n",
       "      <td>9943447915df3a45fd6720a026af905b6da6b56a37701b...</td>\n",
       "    </tr>\n",
       "  </tbody>\n",
       "</table>\n",
       "</div>"
      ],
      "text/plain": [
       "             app_id           session_id  start_timestamp     timezone  \\\n",
       "0  4724682771660800  5558845121177764917        322105316  Asia/Manila   \n",
       "1  4724682771660800  2201961907282901522       1819718029  Asia/Manila   \n",
       "2  4724682771660800    18781111175537580       1617276698  Asia/Manila   \n",
       "3  4724682771660800  1477540082628742048       2522451042  Asia/Manila   \n",
       "4  4724682771660800  8184875317380844086        778366264  Asia/Manila   \n",
       "\n",
       "   previous_sessions_duration  user_created_timestamp is_user_first_session  \\\n",
       "0                    25837591           1538874289458                 false   \n",
       "1                    35050130           1538874289458                 false   \n",
       "2                    11343848           1538874289458                 false   \n",
       "3                    13499724           1538874289458                 false   \n",
       "4                    32788010           1538874289458                 false   \n",
       "\n",
       "  is_session is_developer is_wau is_mau country         city     os_name  \\\n",
       "0       true        false  false  false      PH       makati  Android OS   \n",
       "1       true        false  false  false      PH  quezon city  Android OS   \n",
       "2       true        false  false  false      PH       makati  Android OS   \n",
       "3       true        false  false  false      PH   davao city  Android OS   \n",
       "4       true        false  false  false      PH       makati  Android OS   \n",
       "\n",
       "   session_index                                       user_id_hash  \n",
       "0             30  9943447915df3a45fd6720a026af905b6da6b56a37701b...  \n",
       "1             47  9943447915df3a45fd6720a026af905b6da6b56a37701b...  \n",
       "2             10  9943447915df3a45fd6720a026af905b6da6b56a37701b...  \n",
       "3             13  9943447915df3a45fd6720a026af905b6da6b56a37701b...  \n",
       "4             41  9943447915df3a45fd6720a026af905b6da6b56a37701b...  "
      ]
     },
     "execution_count": 87,
     "metadata": {},
     "output_type": "execute_result"
    }
   ],
   "source": [
    "sessions_df.head()"
   ]
  },
  {
   "cell_type": "markdown",
   "metadata": {},
   "source": [
    "# Data Visualization & EDA"
   ]
  },
  {
   "cell_type": "markdown",
   "metadata": {},
   "source": [
    "### Basic Info - number of sessions"
   ]
  },
  {
   "cell_type": "markdown",
   "metadata": {},
   "source": [
    "Total number of unique users"
   ]
  },
  {
   "cell_type": "code",
   "execution_count": 21,
   "metadata": {
    "ExecuteTime": {
     "end_time": "2019-02-19T00:33:20.477422Z",
     "start_time": "2019-02-19T00:33:19.774100Z"
    }
   },
   "outputs": [
    {
     "data": {
      "text/plain": [
       "620799"
      ]
     },
     "execution_count": 21,
     "metadata": {},
     "output_type": "execute_result"
    }
   ],
   "source": [
    "len(sessions_df['user_id_hash'].unique())"
   ]
  },
  {
   "cell_type": "markdown",
   "metadata": {},
   "source": [
    "Average number of unique sessions for all users"
   ]
  },
  {
   "cell_type": "code",
   "execution_count": 42,
   "metadata": {
    "ExecuteTime": {
     "end_time": "2019-02-19T00:44:26.465131Z",
     "start_time": "2019-02-19T00:44:25.571985Z"
    }
   },
   "outputs": [
    {
     "data": {
      "text/plain": [
       "10.047129586226783"
      ]
     },
     "execution_count": 42,
     "metadata": {},
     "output_type": "execute_result"
    }
   ],
   "source": [
    "np.mean(sessions_df['user_id_hash'].value_counts().tolist())"
   ]
  },
  {
   "cell_type": "markdown",
   "metadata": {},
   "source": [
    "This average number doesn't tell the full story though.\n",
    "\n",
    "Quanitiles of number of unique sessions for all users "
   ]
  },
  {
   "cell_type": "code",
   "execution_count": 43,
   "metadata": {
    "ExecuteTime": {
     "end_time": "2019-02-19T00:45:04.680081Z",
     "start_time": "2019-02-19T00:45:03.683743Z"
    }
   },
   "outputs": [],
   "source": [
    "s = pd.Series(sessions_df['user_id_hash'].value_counts().tolist())"
   ]
  },
  {
   "cell_type": "code",
   "execution_count": 47,
   "metadata": {
    "ExecuteTime": {
     "end_time": "2019-02-19T00:45:29.215787Z",
     "start_time": "2019-02-19T00:45:29.189414Z"
    },
    "scrolled": true
   },
   "outputs": [
    {
     "data": {
      "text/plain": [
       "0.05      1.0\n",
       "0.25      2.0\n",
       "0.50      3.0\n",
       "0.75      6.0\n",
       "0.90     20.0\n",
       "0.95     43.0\n",
       "0.99    131.0\n",
       "dtype: float64"
      ]
     },
     "execution_count": 47,
     "metadata": {},
     "output_type": "execute_result"
    }
   ],
   "source": [
    "s.quantile([.05, .25, .5, .75, 0.90, 0.95, 0.99])"
   ]
  },
  {
   "cell_type": "markdown",
   "metadata": {},
   "source": [
    "As shown above, there are many, many users that only use the app a few times. This isn't even accounting for the sessions that may just be a push notification.\n",
    "\n",
    "Accounting for push notifications:"
   ]
  },
  {
   "cell_type": "code",
   "execution_count": 59,
   "metadata": {
    "ExecuteTime": {
     "end_time": "2019-02-19T01:04:04.133443Z",
     "start_time": "2019-02-19T01:04:03.711921Z"
    }
   },
   "outputs": [],
   "source": [
    "real_sesh = sessions_df.loc[sessions_df['is_session']=='true']"
   ]
  },
  {
   "cell_type": "code",
   "execution_count": 60,
   "metadata": {
    "ExecuteTime": {
     "end_time": "2019-02-19T01:04:12.437822Z",
     "start_time": "2019-02-19T01:04:11.341119Z"
    }
   },
   "outputs": [
    {
     "data": {
      "text/plain": [
       "0.05      1.0\n",
       "0.25      1.0\n",
       "0.50      2.0\n",
       "0.75      5.0\n",
       "0.90     18.0\n",
       "0.95     38.0\n",
       "0.99    111.0\n",
       "dtype: float64"
      ]
     },
     "execution_count": 60,
     "metadata": {},
     "output_type": "execute_result"
    }
   ],
   "source": [
    "s2 = pd.Series(real_sesh['user_id_hash'].value_counts().tolist())\n",
    "s2.quantile([.05, .25, .5, .75, 0.90, 0.95, 0.99])"
   ]
  },
  {
   "cell_type": "markdown",
   "metadata": {},
   "source": [
    "Again, it looks like most users only have a few sessions each."
   ]
  },
  {
   "cell_type": "markdown",
   "metadata": {},
   "source": [
    "Percent of sessions that are the first session of a user"
   ]
  },
  {
   "cell_type": "code",
   "execution_count": 51,
   "metadata": {
    "ExecuteTime": {
     "end_time": "2019-02-19T00:55:11.917439Z",
     "start_time": "2019-02-19T00:55:11.905756Z"
    }
   },
   "outputs": [
    {
     "data": {
      "text/plain": [
       "6237248"
      ]
     },
     "execution_count": 51,
     "metadata": {},
     "output_type": "execute_result"
    }
   ],
   "source": [
    "n = len(sessions_df)\n",
    "n"
   ]
  },
  {
   "cell_type": "code",
   "execution_count": 57,
   "metadata": {
    "ExecuteTime": {
     "end_time": "2019-02-19T00:58:54.372477Z",
     "start_time": "2019-02-19T00:58:54.304050Z"
    }
   },
   "outputs": [
    {
     "data": {
      "text/plain": [
       "is_user_first_session\n",
       "false    5388758\n",
       "true      848490\n",
       "Name: session_id, dtype: int64"
      ]
     },
     "execution_count": 57,
     "metadata": {},
     "output_type": "execute_result"
    }
   ],
   "source": [
    "sessions_df.groupby('is_user_first_session')['session_id'].count()"
   ]
  },
  {
   "cell_type": "code",
   "execution_count": 58,
   "metadata": {
    "ExecuteTime": {
     "end_time": "2019-02-19T00:59:23.501116Z",
     "start_time": "2019-02-19T00:59:23.487741Z"
    }
   },
   "outputs": [
    {
     "data": {
      "text/plain": [
       "13.603595688354863"
      ]
     },
     "execution_count": 58,
     "metadata": {},
     "output_type": "execute_result"
    }
   ],
   "source": [
    "(848490/n)*100"
   ]
  },
  {
   "cell_type": "markdown",
   "metadata": {},
   "source": [
    "13% of all the sessions are first sessions, so this corroborates the idea that many users do not use the app multiple times."
   ]
  },
  {
   "cell_type": "code",
   "execution_count": null,
   "metadata": {},
   "outputs": [],
   "source": [
    "sessions_df.groupby('user_id_hash')['previous_sessions_duration'].mean()"
   ]
  },
  {
   "cell_type": "code",
   "execution_count": 67,
   "metadata": {
    "ExecuteTime": {
     "end_time": "2019-02-19T01:10:05.678561Z",
     "start_time": "2019-02-19T01:10:05.643464Z"
    }
   },
   "outputs": [
    {
     "data": {
      "text/plain": [
       "1404"
      ]
     },
     "execution_count": 67,
     "metadata": {},
     "output_type": "execute_result"
    }
   ],
   "source": [
    "sessions_df['session_index'].max()"
   ]
  },
  {
   "cell_type": "markdown",
   "metadata": {},
   "source": [
    "Histogram of session index where the index is < 40"
   ]
  },
  {
   "cell_type": "code",
   "execution_count": 106,
   "metadata": {
    "ExecuteTime": {
     "end_time": "2019-02-19T01:49:57.200263Z",
     "start_time": "2019-02-19T01:49:57.072805Z"
    },
    "scrolled": true
   },
   "outputs": [],
   "source": [
    "sesh_index = sessions_df.groupby('session_index')['session_index'].count()"
   ]
  },
  {
   "cell_type": "code",
   "execution_count": 111,
   "metadata": {
    "ExecuteTime": {
     "end_time": "2019-02-19T01:52:38.483921Z",
     "start_time": "2019-02-19T01:52:38.150511Z"
    }
   },
   "outputs": [
    {
     "data": {
      "image/png": "[encoded data removed]",
      "text/plain": [
       "<matplotlib.figure.Figure at 0x12a5b7ac8>"
      ]
     },
     "metadata": {
      "needs_background": "light"
     },
     "output_type": "display_data"
    }
   ],
   "source": [
    "figsize(12.5, 3.5)\n",
    "ax = sns.barplot(sesh_index.index[0:40], sesh_index.values[0:40])\n",
    "ax.set_xticklabels(ax.get_xticklabels(), rotation=90)\n",
    "plt.show()"
   ]
  },
  {
   "cell_type": "markdown",
   "metadata": {},
   "source": [
    "### Location & phone info"
   ]
  },
  {
   "cell_type": "markdown",
   "metadata": {},
   "source": [
    "Most sessions occured in these 20 cities"
   ]
  },
  {
   "cell_type": "code",
   "execution_count": 62,
   "metadata": {
    "ExecuteTime": {
     "end_time": "2019-02-19T01:06:42.193433Z",
     "start_time": "2019-02-19T01:06:42.088717Z"
    }
   },
   "outputs": [],
   "source": [
    "city_freq = sessions_df.groupby('city')['session_id'].count()"
   ]
  },
  {
   "cell_type": "code",
   "execution_count": 66,
   "metadata": {
    "ExecuteTime": {
     "end_time": "2019-02-19T01:08:20.965369Z",
     "start_time": "2019-02-19T01:08:20.937027Z"
    }
   },
   "outputs": [
    {
     "data": {
      "text/plain": [
       "city\n",
       "london          97401\n",
       "chicago         94506\n",
       "new york        82615\n",
       "quezon city     79958\n",
       "atlanta         77111\n",
       "dallas          73378\n",
       "kuala lumpur    58304\n",
       "los angeles     57964\n",
       "houston         57592\n",
       "lagos           50290\n",
       "bengaluru       48556\n",
       "mumbai          48122\n",
       "washington      47153\n",
       "?               46479\n",
       "jakarta         46125\n",
       "makati          41634\n",
       "delhi           41355\n",
       "pune            39759\n",
       "sydney          38953\n",
       "singapore       38602\n",
       "Name: session_id, dtype: int64"
      ]
     },
     "execution_count": 66,
     "metadata": {},
     "output_type": "execute_result"
    }
   ],
   "source": [
    "city_freq.sort_values(ascending=False)[:20]"
   ]
  },
  {
   "cell_type": "markdown",
   "metadata": {},
   "source": [
    "Most sessions occurred in these 20 countries"
   ]
  },
  {
   "cell_type": "code",
   "execution_count": 68,
   "metadata": {
    "ExecuteTime": {
     "end_time": "2019-02-19T01:17:30.962646Z",
     "start_time": "2019-02-19T01:17:30.880831Z"
    }
   },
   "outputs": [
    {
     "data": {
      "text/plain": [
       "country\n",
       "US    2805848\n",
       "IN     494784\n",
       "GB     443411\n",
       "PH     259492\n",
       "CA     188399\n",
       "ZA     164678\n",
       "AU     148261\n",
       "ID     102456\n",
       "MY      87667\n",
       "DE      73529\n",
       "BR      72176\n",
       "NG      58751\n",
       "NL      54020\n",
       "PK      45357\n",
       "PL      41758\n",
       "SG      38630\n",
       "NZ      37332\n",
       "EG      35296\n",
       "RO      34369\n",
       "BD      33983\n",
       "Name: session_id, dtype: int64"
      ]
     },
     "execution_count": 68,
     "metadata": {},
     "output_type": "execute_result"
    }
   ],
   "source": [
    "country_freq = sessions_df.groupby('country')['session_id'].count()\n",
    "country_freq.sort_values(ascending=False)[:20]"
   ]
  },
  {
   "cell_type": "code",
   "execution_count": 113,
   "metadata": {
    "ExecuteTime": {
     "end_time": "2019-02-19T01:54:22.240603Z",
     "start_time": "2019-02-19T01:54:21.759294Z"
    }
   },
   "outputs": [
    {
     "data": {
      "image/png": "[encoded data removed]",
      "text/plain": [
       "<matplotlib.figure.Figure at 0x13c13f828>"
      ]
     },
     "metadata": {
      "needs_background": "light"
     },
     "output_type": "display_data"
    }
   ],
   "source": [
    "figsize(12.5, 3.5)\n",
    "ax = sns.countplot(x='os_name', data=sessions_df)\n",
    "ax.set_xticklabels(ax.get_xticklabels())\n",
    "plt.show()"
   ]
  },
  {
   "cell_type": "markdown",
   "metadata": {},
   "source": [
    "Within US, the OS breakdown is as shows:"
   ]
  },
  {
   "cell_type": "code",
   "execution_count": 17,
   "metadata": {
    "ExecuteTime": {
     "end_time": "2019-02-19T02:23:44.706391Z",
     "start_time": "2019-02-19T02:23:43.173238Z"
    }
   },
   "outputs": [],
   "source": [
    "us = sessions_df.loc[sessions_df['country']=='US']"
   ]
  },
  {
   "cell_type": "code",
   "execution_count": 18,
   "metadata": {
    "ExecuteTime": {
     "end_time": "2019-02-19T02:23:45.754588Z",
     "start_time": "2019-02-19T02:23:45.347385Z"
    }
   },
   "outputs": [
    {
     "data": {
      "image/png": "[encoded data removed]",
      "text/plain": [
       "<matplotlib.figure.Figure at 0x123e503c8>"
      ]
     },
     "metadata": {
      "needs_background": "light"
     },
     "output_type": "display_data"
    }
   ],
   "source": [
    "figsize(12.5, 3.5)\n",
    "ax = sns.countplot(x='os_name', data=us)\n",
    "ax.set_xticklabels(ax.get_xticklabels())\n",
    "plt.show()"
   ]
  },
  {
   "cell_type": "markdown",
   "metadata": {},
   "source": [
    "### Date/time info"
   ]
  },
  {
   "cell_type": "code",
   "execution_count": 88,
   "metadata": {
    "ExecuteTime": {
     "end_time": "2019-02-19T01:34:57.503856Z",
     "start_time": "2019-02-19T01:34:57.200369Z"
    }
   },
   "outputs": [],
   "source": [
    "sessions_df['user_created_timestamp'] = pd.to_datetime(sessions_df['user_created_timestamp'], unit='ms')\n",
    "sessions_df['stime'] = pd.to_datetime(sessions_df['start_timestamp'], unit='ms')"
   ]
  },
  {
   "cell_type": "markdown",
   "metadata": {},
   "source": [
    "Histogram of number of days used since user was created"
   ]
  },
  {
   "cell_type": "code",
   "execution_count": 76,
   "metadata": {
    "ExecuteTime": {
     "end_time": "2019-02-19T01:25:08.722595Z",
     "start_time": "2019-02-19T01:25:06.429479Z"
    }
   },
   "outputs": [],
   "source": [
    "df_used_days = sessions_df[['user_created_timestamp', \"user_id_hash\"]].groupby([\"user_id_hash\"]) \\\n",
    "                                                                .agg({\"user_created_timestamp\":\"min\"}).reset_index()\n",
    "df_used_days[\"used_days\"] = pd.to_datetime('2018-12-08')\n",
    "df_used_days[\"used_days\"] = (df_used_days[\"used_days\"] - df_used_days[\"user_created_timestamp\"]).dt.days\n",
    "df_used_days = df_used_days.iloc[:, [0,2]]"
   ]
  },
  {
   "cell_type": "code",
   "execution_count": 100,
   "metadata": {
    "ExecuteTime": {
     "end_time": "2019-02-19T01:43:45.844183Z",
     "start_time": "2019-02-19T01:43:45.824137Z"
    }
   },
   "outputs": [
    {
     "data": {
      "text/html": [
       "<div>\n",
       "<style scoped>\n",
       "    .dataframe tbody tr th:only-of-type {\n",
       "        vertical-align: middle;\n",
       "    }\n",
       "\n",
       "    .dataframe tbody tr th {\n",
       "        vertical-align: top;\n",
       "    }\n",
       "\n",
       "    .dataframe thead th {\n",
       "        text-align: right;\n",
       "    }\n",
       "</style>\n",
       "<table border=\"1\" class=\"dataframe\">\n",
       "  <thead>\n",
       "    <tr style=\"text-align: right;\">\n",
       "      <th></th>\n",
       "      <th>user_id_hash</th>\n",
       "      <th>used_days</th>\n",
       "    </tr>\n",
       "  </thead>\n",
       "  <tbody>\n",
       "    <tr>\n",
       "      <th>0</th>\n",
       "      <td>00000db35682058bb7916cb90f85709f54c1a0f7a3b6de...</td>\n",
       "      <td>27</td>\n",
       "    </tr>\n",
       "    <tr>\n",
       "      <th>1</th>\n",
       "      <td>000059859ec188af6035870faf885c3038cedda05b3a54...</td>\n",
       "      <td>15</td>\n",
       "    </tr>\n",
       "    <tr>\n",
       "      <th>2</th>\n",
       "      <td>000062e9be78f3da274fec338e78f89d12000e781967f2...</td>\n",
       "      <td>61</td>\n",
       "    </tr>\n",
       "    <tr>\n",
       "      <th>3</th>\n",
       "      <td>00006ad44c0d33a2a526caf75514643639b7b7070dfffd...</td>\n",
       "      <td>50</td>\n",
       "    </tr>\n",
       "    <tr>\n",
       "      <th>4</th>\n",
       "      <td>000081a7d841b0f953bdba6c185fd5cc335fd6015a30c3...</td>\n",
       "      <td>15</td>\n",
       "    </tr>\n",
       "    <tr>\n",
       "      <th>5</th>\n",
       "      <td>0000a464ad921c3288e73a3a788b5f113cabf84251a74b...</td>\n",
       "      <td>15</td>\n",
       "    </tr>\n",
       "    <tr>\n",
       "      <th>6</th>\n",
       "      <td>0000bc4e8bfc829d327fa69bdc426dd8a789c52550ed87...</td>\n",
       "      <td>11</td>\n",
       "    </tr>\n",
       "    <tr>\n",
       "      <th>7</th>\n",
       "      <td>0000c5de50d243cc39f6ac4268d7511705585ca3f2a20f...</td>\n",
       "      <td>39</td>\n",
       "    </tr>\n",
       "    <tr>\n",
       "      <th>8</th>\n",
       "      <td>0000c91fb9908357cc11974d0fc67a260ddb46508055f2...</td>\n",
       "      <td>50</td>\n",
       "    </tr>\n",
       "    <tr>\n",
       "      <th>9</th>\n",
       "      <td>0000e2a3c14887640e2ccf2902b23e6b627856fab9efd6...</td>\n",
       "      <td>26</td>\n",
       "    </tr>\n",
       "    <tr>\n",
       "      <th>10</th>\n",
       "      <td>00014a336be98fc4e18e07bd2eb460fa59ac9c19545d8c...</td>\n",
       "      <td>25</td>\n",
       "    </tr>\n",
       "    <tr>\n",
       "      <th>11</th>\n",
       "      <td>000161848e5ccdcd4d3b0c7be9ec844730c39e6bcbc2a7...</td>\n",
       "      <td>41</td>\n",
       "    </tr>\n",
       "    <tr>\n",
       "      <th>12</th>\n",
       "      <td>000176d36d165ecbd4aee7cd8f21e836d8fa374f0885a4...</td>\n",
       "      <td>27</td>\n",
       "    </tr>\n",
       "    <tr>\n",
       "      <th>13</th>\n",
       "      <td>0001826f2557818e6253eff29ef61ccec43cbd0139b80b...</td>\n",
       "      <td>32</td>\n",
       "    </tr>\n",
       "    <tr>\n",
       "      <th>14</th>\n",
       "      <td>00019c00abc35927aefa1470979a546446c6e44f24c7e6...</td>\n",
       "      <td>59</td>\n",
       "    </tr>\n",
       "    <tr>\n",
       "      <th>15</th>\n",
       "      <td>0001c46321a0e86298a5842463975ab449bfe55e764bb5...</td>\n",
       "      <td>34</td>\n",
       "    </tr>\n",
       "    <tr>\n",
       "      <th>16</th>\n",
       "      <td>0001d3714e6b84e6d0ed33687c71b0b5ed0369d634259d...</td>\n",
       "      <td>54</td>\n",
       "    </tr>\n",
       "    <tr>\n",
       "      <th>17</th>\n",
       "      <td>0001d9d78d70b3301aa8b7d4900299311f708cc3f2acff...</td>\n",
       "      <td>18</td>\n",
       "    </tr>\n",
       "    <tr>\n",
       "      <th>18</th>\n",
       "      <td>00020102f66f89759868c843ae9fe634870f132f9e3d79...</td>\n",
       "      <td>7</td>\n",
       "    </tr>\n",
       "    <tr>\n",
       "      <th>19</th>\n",
       "      <td>00020327619fc1b341fccdeb2516829b50421d6bc221f3...</td>\n",
       "      <td>9</td>\n",
       "    </tr>\n",
       "  </tbody>\n",
       "</table>\n",
       "</div>"
      ],
      "text/plain": [
       "                                         user_id_hash  used_days\n",
       "0   00000db35682058bb7916cb90f85709f54c1a0f7a3b6de...         27\n",
       "1   000059859ec188af6035870faf885c3038cedda05b3a54...         15\n",
       "2   000062e9be78f3da274fec338e78f89d12000e781967f2...         61\n",
       "3   00006ad44c0d33a2a526caf75514643639b7b7070dfffd...         50\n",
       "4   000081a7d841b0f953bdba6c185fd5cc335fd6015a30c3...         15\n",
       "5   0000a464ad921c3288e73a3a788b5f113cabf84251a74b...         15\n",
       "6   0000bc4e8bfc829d327fa69bdc426dd8a789c52550ed87...         11\n",
       "7   0000c5de50d243cc39f6ac4268d7511705585ca3f2a20f...         39\n",
       "8   0000c91fb9908357cc11974d0fc67a260ddb46508055f2...         50\n",
       "9   0000e2a3c14887640e2ccf2902b23e6b627856fab9efd6...         26\n",
       "10  00014a336be98fc4e18e07bd2eb460fa59ac9c19545d8c...         25\n",
       "11  000161848e5ccdcd4d3b0c7be9ec844730c39e6bcbc2a7...         41\n",
       "12  000176d36d165ecbd4aee7cd8f21e836d8fa374f0885a4...         27\n",
       "13  0001826f2557818e6253eff29ef61ccec43cbd0139b80b...         32\n",
       "14  00019c00abc35927aefa1470979a546446c6e44f24c7e6...         59\n",
       "15  0001c46321a0e86298a5842463975ab449bfe55e764bb5...         34\n",
       "16  0001d3714e6b84e6d0ed33687c71b0b5ed0369d634259d...         54\n",
       "17  0001d9d78d70b3301aa8b7d4900299311f708cc3f2acff...         18\n",
       "18  00020102f66f89759868c843ae9fe634870f132f9e3d79...          7\n",
       "19  00020327619fc1b341fccdeb2516829b50421d6bc221f3...          9"
      ]
     },
     "execution_count": 100,
     "metadata": {},
     "output_type": "execute_result"
    }
   ],
   "source": [
    "df_used_days[0:20]"
   ]
  },
  {
   "cell_type": "code",
   "execution_count": 102,
   "metadata": {
    "ExecuteTime": {
     "end_time": "2019-02-19T01:45:23.943513Z",
     "start_time": "2019-02-19T01:45:23.530237Z"
    }
   },
   "outputs": [
    {
     "data": {
      "image/png": "[encoded data removed]",
      "text/plain": [
       "<matplotlib.figure.Figure at 0x1d591c358>"
      ]
     },
     "metadata": {
      "needs_background": "light"
     },
     "output_type": "display_data"
    }
   ],
   "source": [
    "figsize(12.5, 3.5)\n",
    "ax = sns.countplot(x='used_days', data=df_used_days)\n",
    "ax.set_xticklabels(ax.get_xticklabels(), rotation=90)\n",
    "plt.show()"
   ]
  },
  {
   "cell_type": "markdown",
   "metadata": {},
   "source": [
    "As the plot of the above shows, this is definitely time series data"
   ]
  },
  {
   "cell_type": "markdown",
   "metadata": {},
   "source": [
    "Now examining the events data"
   ]
  },
  {
   "cell_type": "code",
   "execution_count": 21,
   "metadata": {
    "ExecuteTime": {
     "end_time": "2019-02-19T02:25:26.254788Z",
     "start_time": "2019-02-19T02:25:19.969627Z"
    },
    "scrolled": false
   },
   "outputs": [
    {
     "data": {
      "text/html": [
       "<div>\n",
       "<style scoped>\n",
       "    .dataframe tbody tr th:only-of-type {\n",
       "        vertical-align: middle;\n",
       "    }\n",
       "\n",
       "    .dataframe tbody tr th {\n",
       "        vertical-align: top;\n",
       "    }\n",
       "\n",
       "    .dataframe thead th {\n",
       "        text-align: right;\n",
       "    }\n",
       "</style>\n",
       "<table border=\"1\" class=\"dataframe\">\n",
       "  <thead>\n",
       "    <tr style=\"text-align: right;\">\n",
       "      <th></th>\n",
       "      <th>app_id</th>\n",
       "      <th>session_id</th>\n",
       "      <th>event</th>\n",
       "      <th>event_timestamp</th>\n",
       "      <th>event_value</th>\n",
       "      <th>user_id_hash</th>\n",
       "    </tr>\n",
       "  </thead>\n",
       "  <tbody>\n",
       "    <tr>\n",
       "      <th>279</th>\n",
       "      <td>4724682771660800</td>\n",
       "      <td>5159335150551901701</td>\n",
       "      <td>8</td>\n",
       "      <td>2018-11-11 05:03:20.211</td>\n",
       "      <td>3.493</td>\n",
       "      <td>9943447915df3a45fd6720a026af905b6da6b56a37701b...</td>\n",
       "    </tr>\n",
       "    <tr>\n",
       "      <th>2898</th>\n",
       "      <td>4724682771660800</td>\n",
       "      <td>845986603555615931</td>\n",
       "      <td>8</td>\n",
       "      <td>2018-11-27 22:23:53.771</td>\n",
       "      <td>3.493</td>\n",
       "      <td>deaf54103e439789b069a95c4650dc6cdc24d6c9d700f1...</td>\n",
       "    </tr>\n",
       "    <tr>\n",
       "      <th>2970</th>\n",
       "      <td>4724682771660800</td>\n",
       "      <td>2846996524173831068</td>\n",
       "      <td>8</td>\n",
       "      <td>2018-11-24 01:38:59.172</td>\n",
       "      <td>3.493</td>\n",
       "      <td>deaf54103e439789b069a95c4650dc6cdc24d6c9d700f1...</td>\n",
       "    </tr>\n",
       "    <tr>\n",
       "      <th>3002</th>\n",
       "      <td>4724682771660800</td>\n",
       "      <td>6141788581998894012</td>\n",
       "      <td>8</td>\n",
       "      <td>2018-11-29 22:38:59.724</td>\n",
       "      <td>1.393</td>\n",
       "      <td>deaf54103e439789b069a95c4650dc6cdc24d6c9d700f1...</td>\n",
       "    </tr>\n",
       "    <tr>\n",
       "      <th>3597</th>\n",
       "      <td>4724682771660800</td>\n",
       "      <td>6974128812803113234</td>\n",
       "      <td>8</td>\n",
       "      <td>2018-11-05 16:57:37.644</td>\n",
       "      <td>1.393</td>\n",
       "      <td>b2ccdf1ae0d33e2e0a671d605f3fe4cdb72c7fc54bdd49...</td>\n",
       "    </tr>\n",
       "  </tbody>\n",
       "</table>\n",
       "</div>"
      ],
      "text/plain": [
       "                app_id           session_id event         event_timestamp  \\\n",
       "279   4724682771660800  5159335150551901701     8 2018-11-11 05:03:20.211   \n",
       "2898  4724682771660800   845986603555615931     8 2018-11-27 22:23:53.771   \n",
       "2970  4724682771660800  2846996524173831068     8 2018-11-24 01:38:59.172   \n",
       "3002  4724682771660800  6141788581998894012     8 2018-11-29 22:38:59.724   \n",
       "3597  4724682771660800  6974128812803113234     8 2018-11-05 16:57:37.644   \n",
       "\n",
       "      event_value                                       user_id_hash  \n",
       "279         3.493  9943447915df3a45fd6720a026af905b6da6b56a37701b...  \n",
       "2898        3.493  deaf54103e439789b069a95c4650dc6cdc24d6c9d700f1...  \n",
       "2970        3.493  deaf54103e439789b069a95c4650dc6cdc24d6c9d700f1...  \n",
       "3002        1.393  deaf54103e439789b069a95c4650dc6cdc24d6c9d700f1...  \n",
       "3597        1.393  b2ccdf1ae0d33e2e0a671d605f3fe4cdb72c7fc54bdd49...  "
      ]
     },
     "execution_count": 21,
     "metadata": {},
     "output_type": "execute_result"
    }
   ],
   "source": [
    "purchases = events_df.loc[events_df['event'] == '8']\n",
    "purchases['event_timestamp'] = pd.to_datetime(purchases['event_timestamp'], unit='ms')\n",
    "purchases.head()"
   ]
  },
  {
   "cell_type": "code",
   "execution_count": 22,
   "metadata": {
    "ExecuteTime": {
     "end_time": "2019-02-19T02:26:33.799808Z",
     "start_time": "2019-02-19T02:26:33.685377Z"
    }
   },
   "outputs": [],
   "source": [
    "purchases['date'] = purchases['event_timestamp'].dt.date"
   ]
  },
  {
   "cell_type": "code",
   "execution_count": 52,
   "metadata": {
    "ExecuteTime": {
     "end_time": "2019-02-19T02:42:06.805304Z",
     "start_time": "2019-02-19T02:42:06.160317Z"
    },
    "scrolled": true
   },
   "outputs": [
    {
     "data": {
      "image/png": "[encoded data removed]",
      "text/plain": [
       "<matplotlib.figure.Figure at 0x1259d1550>"
      ]
     },
     "metadata": {
      "needs_background": "light"
     },
     "output_type": "display_data"
    }
   ],
   "source": [
    "figsize(13, 3.5)\n",
    "ax = sns.countplot(x='date', data=purchases)\n",
    "ax.set_xticklabels(ax.get_xticklabels(), rotation=90)\n",
    "plt.show()"
   ]
  },
  {
   "cell_type": "markdown",
   "metadata": {},
   "source": [
    "The plot above shows the number of purchases that occured in the time period we are concered with. It looks like the number of purchases is higher in the middle period of time, and then it decrease towards the end."
   ]
  },
  {
   "cell_type": "code",
   "execution_count": null,
   "metadata": {},
   "outputs": [],
   "source": []
  }
 ],
 "metadata": {
  "kernelspec": {
   "display_name": "Python 3",
   "language": "python",
   "name": "python3"
  },
  "language_info": {
   "codemirror_mode": {
    "name": "ipython",
    "version": 3
   },
   "file_extension": ".py",
   "mimetype": "text/x-python",
   "name": "python",
   "nbconvert_exporter": "python",
   "pygments_lexer": "ipython3",
   "version": "3.6.6"
  }
 },
 "nbformat": 4,
 "nbformat_minor": 2
}
