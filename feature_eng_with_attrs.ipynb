{
 "cells": [
  {
   "cell_type": "code",
   "execution_count": 52,
   "metadata": {
    "ExecuteTime": {
     "end_time": "2019-03-03T01:33:17.410900Z",
     "start_time": "2019-03-03T01:33:17.399448Z"
    }
   },
   "outputs": [],
   "source": [
    "import pandas as pd\n",
    "import numpy as np\n",
    "import matplotlib.pyplot as plt\n",
    "import os\n",
    "import collections"
   ]
  },
  {
   "cell_type": "code",
   "execution_count": 53,
   "metadata": {
    "ExecuteTime": {
     "end_time": "2019-03-03T01:33:17.916188Z",
     "start_time": "2019-03-03T01:33:17.912098Z"
    }
   },
   "outputs": [],
   "source": [
    "results_path = \"./results_3_2_3_fe4+xgb2\"\n",
    "if not os.path.exists(results_path):\n",
    "    os.makedirs(results_path)"
   ]
  },
  {
   "cell_type": "code",
   "execution_count": 54,
   "metadata": {
    "ExecuteTime": {
     "end_time": "2019-03-03T01:33:24.202632Z",
     "start_time": "2019-03-03T01:33:20.090590Z"
    },
    "scrolled": true
   },
   "outputs": [],
   "source": [
    "attributes = pd.read_pickle(\"../attributes/attr.pkl\")\n",
    "attributes[\"session_id\"] = attributes[\"session_id\"].astype('int64')\n",
    "attributes[\"user_id_hash\"] = attributes[\"user_id_hash\"].astype('object')\n"
   ]
  },
  {
   "cell_type": "markdown",
   "metadata": {},
   "source": [
    "get mean values. Choose columns by the number of missing values and from the feature importsnce from xgboost models"
   ]
  },
  {
   "cell_type": "code",
   "execution_count": 55,
   "metadata": {
    "ExecuteTime": {
     "end_time": "2019-03-03T01:33:28.809874Z",
     "start_time": "2019-03-03T01:33:24.683565Z"
    },
    "scrolled": true
   },
   "outputs": [],
   "source": [
    "all_cols = [\"user_id_hash\",\"attr_0\",\"attr_1\",\"attr_2\",\"attr_3\",\"attr_5\"\n",
    "               ,\"attr_7\",\"attr_8\",\"attr_10\",\"attr_13\",\"attr_14\",\"attr_15\",\"attr_16\",\"attr_17\"\n",
    "               ,\"attr_18\",\"attr_19\",\"attr_25\",\"attr_26\",\"attr_27\",\"attr_28\"]\n",
    "\n",
    "df_attr = attributes[all_cols].groupby([\"user_id_hash\"]).mean().reset_index()"
   ]
  },
  {
   "cell_type": "code",
   "execution_count": 59,
   "metadata": {
    "ExecuteTime": {
     "end_time": "2019-03-03T01:36:48.952438Z",
     "start_time": "2019-03-03T01:36:48.493748Z"
    },
    "scrolled": true
   },
   "outputs": [],
   "source": [
    "useful_cols = [\"user_id_hash\",\"attr_0\",\"attr_1\",\"attr_2\"\n",
    "               ,\"attr_8\",\"attr_10\",\"attr_13\",\"attr_14\",\"attr_16\",\"attr_17\"]\n",
    "\n",
    "df_attr = df_attr[useful_cols].fillna(0)"
   ]
  },
  {
   "cell_type": "code",
   "execution_count": null,
   "metadata": {},
   "outputs": [],
   "source": []
  },
  {
   "cell_type": "code",
   "execution_count": null,
   "metadata": {},
   "outputs": [],
   "source": []
  },
  {
   "cell_type": "markdown",
   "metadata": {},
   "source": [
    "# Load Data"
   ]
  },
  {
   "cell_type": "code",
   "execution_count": 60,
   "metadata": {
    "ExecuteTime": {
     "end_time": "2019-03-03T01:36:51.920861Z",
     "start_time": "2019-03-03T01:36:51.918404Z"
    }
   },
   "outputs": [],
   "source": [
    "events_path = \"../events/events.csv\"\n",
    "sessions_path = \"../sessions/sessions.csv\""
   ]
  },
  {
   "cell_type": "code",
   "execution_count": 61,
   "metadata": {
    "ExecuteTime": {
     "end_time": "2019-03-03T01:39:30.030153Z",
     "start_time": "2019-03-03T01:36:56.096567Z"
    }
   },
   "outputs": [],
   "source": [
    "columns = [\"session_id\", \"event\", \"event_timestamp\", \"event_value\", \"user_id_hash\"]\n",
    "events = pd.read_csv(events_path, usecols=columns)\n",
    "\n",
    "columns = [\"session_id\", \"start_timestamp\", \"timezone_offset\", \"previous_sessions_duration\", \n",
    "           \"user_created_timestamp\", \"is_user_first_session\", \"is_session\", \"is_developer\", \n",
    "          \"is_wau\", \"is_mau\", \"session_index\", \"user_id_hash\"]\n",
    "sessions = pd.read_csv(sessions_path, usecols=columns)"
   ]
  },
  {
   "cell_type": "markdown",
   "metadata": {},
   "source": [
    "## Convert timestamp"
   ]
  },
  {
   "cell_type": "code",
   "execution_count": 62,
   "metadata": {
    "ExecuteTime": {
     "end_time": "2019-03-03T01:39:35.091753Z",
     "start_time": "2019-03-03T01:39:30.037591Z"
    }
   },
   "outputs": [],
   "source": [
    "events[\"timestamp\"] = pd.to_datetime(events[\"event_timestamp\"], unit='ms')\n",
    "sessions[\"uc_timestamp\"] = pd.to_datetime(sessions[\"user_created_timestamp\"], unit='ms')\n",
    "sessions[\"st_timestamp\"] = pd.to_datetime(sessions[\"start_timestamp\"], unit='ms')"
   ]
  },
  {
   "cell_type": "markdown",
   "metadata": {
    "slideshow": {
     "slide_type": "slide"
    }
   },
   "source": [
    "# Label and Feature Functions"
   ]
  },
  {
   "cell_type": "code",
   "execution_count": 63,
   "metadata": {
    "ExecuteTime": {
     "end_time": "2019-03-03T01:39:35.108606Z",
     "start_time": "2019-03-03T01:39:35.094875Z"
    },
    "scrolled": true
   },
   "outputs": [],
   "source": [
    "def create_labels(events, sessions, start_window, end_window):\n",
    "    events_8 = events[(events[\"timestamp\"]>= start_window) & (events[\"timestamp\"]<= end_window) & \n",
    "                      (events[\"event\"]=='8')]\n",
    "    tempdf = events_8.groupby([\"user_id_hash\"]).agg({\"event\":\"count\"}).reset_index()\n",
    "    tempdf[\"target\"] = tempdf[\"event\"].apply(lambda x: 0 if x==0 else 1)\n",
    "\n",
    "    df_labels = pd.DataFrame({\"user_id_hash\":sessions.user_id_hash.unique()})\n",
    "    df_labels = pd.merge(df_labels, tempdf[[\"user_id_hash\", \"target\"]], on=\"user_id_hash\", how=\"left\")\n",
    "    df_labels[\"target\"] = df_labels[\"target\"].apply(lambda x: 0 if pd.isnull(x) else 1)\n",
    "    return df_labels"
   ]
  },
  {
   "cell_type": "markdown",
   "metadata": {},
   "source": [
    "### feature: days_since_uc, days_used\n",
    "Days since user creation, distinct says used"
   ]
  },
  {
   "cell_type": "code",
   "execution_count": 64,
   "metadata": {
    "ExecuteTime": {
     "end_time": "2019-03-03T01:39:35.118210Z",
     "start_time": "2019-03-03T01:39:35.110842Z"
    }
   },
   "outputs": [],
   "source": [
    "def used_days_feature(sessions, used_from_date):\n",
    "    df_used_days = sessions[[\"user_id_hash\", \"uc_timestamp\", \"st_timestamp\"]] \\\n",
    "                            .groupby([\"user_id_hash\"]) \\\n",
    "                            .agg({\"uc_timestamp\":\"min\",\n",
    "                                  \"st_timestamp\":lambda x: x.dt.date.nunique()}).reset_index()\n",
    "\n",
    "    df_used_days[\"uc_timestamp\"] = (pd.to_datetime(used_from_date) - df_used_days[\"uc_timestamp\"]).dt.days + 1\n",
    "    df_used_days.columns = [\"user_id_hash\", \"days_since_uc\", \"days_used\"]\n",
    "    \n",
    "    return df_used_days"
   ]
  },
  {
   "cell_type": "markdown",
   "metadata": {},
   "source": [
    "### feature: session_num, session_num_per_day, session_duration_per_session , last_session_days"
   ]
  },
  {
   "cell_type": "code",
   "execution_count": 65,
   "metadata": {
    "ExecuteTime": {
     "end_time": "2019-03-03T01:39:35.130933Z",
     "start_time": "2019-03-03T01:39:35.119869Z"
    }
   },
   "outputs": [],
   "source": [
    "def sessions_features(sessions, sess_from_date):\n",
    "    df_session_num = pd.DataFrame({\"user_id_hash\":sessions.user_id_hash.unique()})\n",
    "\n",
    "    tempdf = sessions[(sessions[\"is_session\"]==True) \n",
    "                       & (sessions[\"is_developer\"]==False) \n",
    "                       & (sessions[\"st_timestamp\"]<sess_from_date)]\n",
    "    tempdf = tempdf[[\"session_id\", \"user_id_hash\", \"previous_sessions_duration\", \"st_timestamp\"]] \\\n",
    "                       .groupby([\"user_id_hash\"]) \\\n",
    "                       .agg({\"session_id\":\"count\", \n",
    "                             \"previous_sessions_duration\":\"mean\",\n",
    "                             \"st_timestamp\": lambda x: (pd.to_datetime(sess_from_date) - x.max()).days}) \\\n",
    "                       .reset_index()\n",
    "\n",
    "    df_session_num = pd.merge(df_session_num, tempdf, on=\"user_id_hash\", how=\"left\")\n",
    "    df_session_num.fillna(0, inplace=True)\n",
    "    df_session_num.columns = [\"user_id_hash\", \"session_num\", \"session_duration_per_session\", \"last_session_days\"]\n",
    "    \n",
    "    return df_session_num"
   ]
  },
  {
   "cell_type": "markdown",
   "metadata": {},
   "source": [
    "### feature: purchases_num, purchases_num_per_day, whether_purch"
   ]
  },
  {
   "cell_type": "code",
   "execution_count": 66,
   "metadata": {
    "ExecuteTime": {
     "end_time": "2019-03-03T01:39:35.138129Z",
     "start_time": "2019-03-03T01:39:35.133612Z"
    }
   },
   "outputs": [],
   "source": [
    "def purchase_features(events, purch_from_date):\n",
    "    events8_feat = events[(events[\"timestamp\"]<purch_from_date) & (events[\"event\"]=='8')]\n",
    "    tempdf = events8_feat.groupby([\"user_id_hash\"]).agg({\"event\":\"count\"}).reset_index()\n",
    "\n",
    "    df_purch = pd.DataFrame({\"user_id_hash\":sessions.user_id_hash.unique()})\n",
    "    df_purch = pd.merge(df_purch, tempdf, how=\"left\")\n",
    "    df_purch.fillna(0, inplace=True)\n",
    "    df_purch.columns = [\"user_id_hash\", \"purchases_num\"]\n",
    "    df_purch[\"whether_purch\"] = df_purch[\"purchases_num\"].apply(lambda x: 1 if x>0 else 0)\n",
    "\n",
    "    return df_purch"
   ]
  },
  {
   "cell_type": "markdown",
   "metadata": {},
   "source": [
    "### feature: last7d_purch, last14d_purch\n",
    "Number of purchases in previous 7 or 14 days"
   ]
  },
  {
   "cell_type": "code",
   "execution_count": 67,
   "metadata": {
    "ExecuteTime": {
     "end_time": "2019-03-03T01:39:35.145727Z",
     "start_time": "2019-03-03T01:39:35.140009Z"
    }
   },
   "outputs": [],
   "source": [
    "def recent_purchases_feature(events, purch_from_date, num_days):\n",
    "    events8_feat = events[(events[\"timestamp\"]<purch_from_date) & (events[\"event\"]=='8')]\n",
    "    recent_purch_filter = events8_feat.timestamp >= np.datetime64(purch_from_date) - np.timedelta64(num_days, 'D')\n",
    "\n",
    "    tempdf = events8_feat[recent_purch_filter].groupby([\"user_id_hash\"]).agg({\"event\":\"count\"}).reset_index()\n",
    "    recent_purch = pd.DataFrame({\"user_id_hash\":sessions.user_id_hash.unique()})\n",
    "\n",
    "    recent_purch = pd.merge(recent_purch, tempdf, how=\"left\")\n",
    "    recent_purch.fillna(0, inplace=True)\n",
    "\n",
    "    col_name = f\"last{num_days}d_purch\"\n",
    "    recent_purch.columns = [\"user_id_hash\", col_name]\n",
    "    \n",
    "    return recent_purch\n"
   ]
  },
  {
   "cell_type": "markdown",
   "metadata": {},
   "source": [
    "### feature: events_counts"
   ]
  },
  {
   "cell_type": "code",
   "execution_count": 68,
   "metadata": {
    "ExecuteTime": {
     "end_time": "2019-03-03T01:39:35.152763Z",
     "start_time": "2019-03-03T01:39:35.147701Z"
    }
   },
   "outputs": [],
   "source": [
    "def events_count_encoding(events, purch_from_date):\n",
    "    event_list = ['45']\n",
    "    recent_events_filter = events.timestamp >= np.datetime64(purch_from_date) - np.timedelta64(14, 'D')\n",
    "    \n",
    "    events_subset = events[(recent_events_filter) & (events.event.isin(event_list))]\n",
    "    tempdf = events_subset.groupby([\"user_id_hash\", \"event\"]).count().reset_index()\n",
    "    tempdf = tempdf.pivot_table('session_id', 'user_id_hash', columns='event').reset_index()\n",
    "\n",
    "    df_event_counts = pd.DataFrame({\"user_id_hash\":sessions.user_id_hash.unique()})\n",
    "    df_event_counts = pd.merge(df_event_counts, tempdf, how=\"left\").fillna(0)\n",
    "    \n",
    "#     temp_df = pd.DataFrame({\"user_id_hash\":sessions.user_id_hash.unique()})\n",
    "#     events_piv = events[events[\"timestamp\"] <= purch_from_date].groupby(['user_id_hash', 'event']).size().reset_index()\n",
    "#     events_piv = events_piv.pivot_table(0, 'user_id_hash', columns='event').reset_index()\n",
    "#     events_counts = pd.merge(temp_df, events_piv, how='left', on='user_id_hash').fillna(0)\n",
    "    \n",
    "    return df_event_counts"
   ]
  },
  {
   "cell_type": "markdown",
   "metadata": {},
   "source": [
    "# Combine features and labels"
   ]
  },
  {
   "cell_type": "code",
   "execution_count": 69,
   "metadata": {
    "ExecuteTime": {
     "end_time": "2019-03-03T01:39:35.158871Z",
     "start_time": "2019-03-03T01:39:35.154749Z"
    }
   },
   "outputs": [],
   "source": [
    "def create_features(events, sessions, from_date, to_date):\n",
    "    df_used_days = used_days_feature(sessions, from_date)\n",
    "    df_session_num = sessions_features(sessions, from_date)\n",
    "    df_purch = purchase_features(events, from_date)\n",
    "    \n",
    "    recent_purch_days = pd.to_datetime(to_date) - pd.to_datetime(from_date)\n",
    "    df_recent_purch = recent_purchases_feature(events, from_date, recent_purch_days.days+1)\n",
    "#     df_event_counts = events_count_encoding(events, from_date)\n",
    "\n",
    "    df = pd.merge(df_used_days, df_session_num)\n",
    "    df = pd.merge(df, df_purch)\n",
    "    df = pd.merge(df, df_purch)\n",
    "    df = pd.merge(df, df_recent_purch)\n",
    "#     df = pd.merge(df, df_event_counts)\n",
    "    \n",
    "    df[\"purchases_num_per_day\"] = df[\"purchases_num\"]/df[\"days_used\"]\n",
    "    df[\"session_num_per_day\"] = df[\"session_num\"]/df[\"days_used\"]\n",
    "    \n",
    "    return df"
   ]
  },
  {
   "cell_type": "markdown",
   "metadata": {},
   "source": [
    "# 7 Day Training dataset"
   ]
  },
  {
   "cell_type": "code",
   "execution_count": 71,
   "metadata": {
    "ExecuteTime": {
     "end_time": "2019-03-03T01:44:42.015743Z",
     "start_time": "2019-03-03T01:39:51.446828Z"
    }
   },
   "outputs": [],
   "source": [
    "df7t_part = create_features(events, sessions, '2018-12-08', '2018-12-14')\n",
    "df_labels = create_labels(events, sessions, '2018-12-08', '2018-12-14')"
   ]
  },
  {
   "cell_type": "code",
   "execution_count": 72,
   "metadata": {
    "ExecuteTime": {
     "end_time": "2019-03-03T01:44:43.864223Z",
     "start_time": "2019-03-03T01:44:42.018346Z"
    }
   },
   "outputs": [],
   "source": [
    "df7t = pd.merge(df7t_part, df_labels)\n",
    "df7t = pd.merge(df7t, df_attr, on=\"user_id_hash\", how=\"left\")\n",
    "df7t = df7t.fillna(0)"
   ]
  },
  {
   "cell_type": "code",
   "execution_count": 73,
   "metadata": {
    "ExecuteTime": {
     "end_time": "2019-03-03T01:44:43.869471Z",
     "start_time": "2019-03-03T01:44:43.865941Z"
    }
   },
   "outputs": [
    {
     "data": {
      "text/plain": [
       "(621106, 21)"
      ]
     },
     "execution_count": 73,
     "metadata": {},
     "output_type": "execute_result"
    }
   ],
   "source": [
    "df7t.shape"
   ]
  },
  {
   "cell_type": "code",
   "execution_count": 74,
   "metadata": {
    "ExecuteTime": {
     "end_time": "2019-03-03T01:44:43.902980Z",
     "start_time": "2019-03-03T01:44:43.871319Z"
    }
   },
   "outputs": [
    {
     "data": {
      "text/html": [
       "<div>\n",
       "<style scoped>\n",
       "    .dataframe tbody tr th:only-of-type {\n",
       "        vertical-align: middle;\n",
       "    }\n",
       "\n",
       "    .dataframe tbody tr th {\n",
       "        vertical-align: top;\n",
       "    }\n",
       "\n",
       "    .dataframe thead th {\n",
       "        text-align: right;\n",
       "    }\n",
       "</style>\n",
       "<table border=\"1\" class=\"dataframe\">\n",
       "  <thead>\n",
       "    <tr style=\"text-align: right;\">\n",
       "      <th></th>\n",
       "      <th>user_id_hash</th>\n",
       "      <th>days_since_uc</th>\n",
       "      <th>days_used</th>\n",
       "      <th>session_num</th>\n",
       "      <th>session_duration_per_session</th>\n",
       "      <th>last_session_days</th>\n",
       "      <th>purchases_num</th>\n",
       "      <th>whether_purch</th>\n",
       "      <th>last7d_purch</th>\n",
       "      <th>purchases_num_per_day</th>\n",
       "      <th>...</th>\n",
       "      <th>target</th>\n",
       "      <th>attr_0</th>\n",
       "      <th>attr_1</th>\n",
       "      <th>attr_2</th>\n",
       "      <th>attr_8</th>\n",
       "      <th>attr_10</th>\n",
       "      <th>attr_13</th>\n",
       "      <th>attr_14</th>\n",
       "      <th>attr_16</th>\n",
       "      <th>attr_17</th>\n",
       "    </tr>\n",
       "  </thead>\n",
       "  <tbody>\n",
       "    <tr>\n",
       "      <th>0</th>\n",
       "      <td>00000db35682058bb7916cb90f85709f54c1a0f7a3b6de...</td>\n",
       "      <td>28</td>\n",
       "      <td>6</td>\n",
       "      <td>22.0</td>\n",
       "      <td>7.129631e+06</td>\n",
       "      <td>20.0</td>\n",
       "      <td>8.0</td>\n",
       "      <td>1</td>\n",
       "      <td>0.0</td>\n",
       "      <td>1.333333</td>\n",
       "      <td>...</td>\n",
       "      <td>0</td>\n",
       "      <td>2.0</td>\n",
       "      <td>37.78125</td>\n",
       "      <td>15.039062</td>\n",
       "      <td>42.90625</td>\n",
       "      <td>0.0</td>\n",
       "      <td>16.8125</td>\n",
       "      <td>42.375</td>\n",
       "      <td>21.796875</td>\n",
       "      <td>3.000000</td>\n",
       "    </tr>\n",
       "    <tr>\n",
       "      <th>1</th>\n",
       "      <td>000059859ec188af6035870faf885c3038cedda05b3a54...</td>\n",
       "      <td>16</td>\n",
       "      <td>4</td>\n",
       "      <td>10.0</td>\n",
       "      <td>4.524304e+06</td>\n",
       "      <td>13.0</td>\n",
       "      <td>1.0</td>\n",
       "      <td>1</td>\n",
       "      <td>0.0</td>\n",
       "      <td>0.250000</td>\n",
       "      <td>...</td>\n",
       "      <td>0</td>\n",
       "      <td>0.0</td>\n",
       "      <td>0.00000</td>\n",
       "      <td>1.000000</td>\n",
       "      <td>6.87500</td>\n",
       "      <td>0.0</td>\n",
       "      <td>0.5000</td>\n",
       "      <td>2.500</td>\n",
       "      <td>9.000000</td>\n",
       "      <td>7.750000</td>\n",
       "    </tr>\n",
       "    <tr>\n",
       "      <th>2</th>\n",
       "      <td>000062e9be78f3da274fec338e78f89d12000e781967f2...</td>\n",
       "      <td>62</td>\n",
       "      <td>7</td>\n",
       "      <td>27.0</td>\n",
       "      <td>1.025302e+07</td>\n",
       "      <td>55.0</td>\n",
       "      <td>0.0</td>\n",
       "      <td>0</td>\n",
       "      <td>0.0</td>\n",
       "      <td>0.000000</td>\n",
       "      <td>...</td>\n",
       "      <td>0</td>\n",
       "      <td>0.5</td>\n",
       "      <td>0.00000</td>\n",
       "      <td>0.000000</td>\n",
       "      <td>12.12500</td>\n",
       "      <td>0.0</td>\n",
       "      <td>0.0000</td>\n",
       "      <td>2.500</td>\n",
       "      <td>29.593750</td>\n",
       "      <td>13.335938</td>\n",
       "    </tr>\n",
       "    <tr>\n",
       "      <th>3</th>\n",
       "      <td>00006ad44c0d33a2a526caf75514643639b7b7070dfffd...</td>\n",
       "      <td>51</td>\n",
       "      <td>3</td>\n",
       "      <td>7.0</td>\n",
       "      <td>4.104550e+06</td>\n",
       "      <td>49.0</td>\n",
       "      <td>0.0</td>\n",
       "      <td>0</td>\n",
       "      <td>0.0</td>\n",
       "      <td>0.000000</td>\n",
       "      <td>...</td>\n",
       "      <td>0</td>\n",
       "      <td>0.0</td>\n",
       "      <td>0.00000</td>\n",
       "      <td>0.000000</td>\n",
       "      <td>5.25000</td>\n",
       "      <td>0.0</td>\n",
       "      <td>0.0000</td>\n",
       "      <td>3.000</td>\n",
       "      <td>9.000000</td>\n",
       "      <td>9.500000</td>\n",
       "    </tr>\n",
       "    <tr>\n",
       "      <th>4</th>\n",
       "      <td>000081a7d841b0f953bdba6c185fd5cc335fd6015a30c3...</td>\n",
       "      <td>16</td>\n",
       "      <td>3</td>\n",
       "      <td>3.0</td>\n",
       "      <td>9.135007e+05</td>\n",
       "      <td>14.0</td>\n",
       "      <td>0.0</td>\n",
       "      <td>0</td>\n",
       "      <td>0.0</td>\n",
       "      <td>0.000000</td>\n",
       "      <td>...</td>\n",
       "      <td>0</td>\n",
       "      <td>0.0</td>\n",
       "      <td>0.00000</td>\n",
       "      <td>0.000000</td>\n",
       "      <td>0.50000</td>\n",
       "      <td>0.0</td>\n",
       "      <td>0.0000</td>\n",
       "      <td>1.000</td>\n",
       "      <td>42.500000</td>\n",
       "      <td>0.500000</td>\n",
       "    </tr>\n",
       "  </tbody>\n",
       "</table>\n",
       "<p>5 rows × 21 columns</p>\n",
       "</div>"
      ],
      "text/plain": [
       "                                        user_id_hash  days_since_uc  \\\n",
       "0  00000db35682058bb7916cb90f85709f54c1a0f7a3b6de...             28   \n",
       "1  000059859ec188af6035870faf885c3038cedda05b3a54...             16   \n",
       "2  000062e9be78f3da274fec338e78f89d12000e781967f2...             62   \n",
       "3  00006ad44c0d33a2a526caf75514643639b7b7070dfffd...             51   \n",
       "4  000081a7d841b0f953bdba6c185fd5cc335fd6015a30c3...             16   \n",
       "\n",
       "   days_used  session_num  session_duration_per_session  last_session_days  \\\n",
       "0          6         22.0                  7.129631e+06               20.0   \n",
       "1          4         10.0                  4.524304e+06               13.0   \n",
       "2          7         27.0                  1.025302e+07               55.0   \n",
       "3          3          7.0                  4.104550e+06               49.0   \n",
       "4          3          3.0                  9.135007e+05               14.0   \n",
       "\n",
       "   purchases_num  whether_purch  last7d_purch  purchases_num_per_day  \\\n",
       "0            8.0              1           0.0               1.333333   \n",
       "1            1.0              1           0.0               0.250000   \n",
       "2            0.0              0           0.0               0.000000   \n",
       "3            0.0              0           0.0               0.000000   \n",
       "4            0.0              0           0.0               0.000000   \n",
       "\n",
       "     ...      target  attr_0    attr_1     attr_2    attr_8  attr_10  attr_13  \\\n",
       "0    ...           0     2.0  37.78125  15.039062  42.90625      0.0  16.8125   \n",
       "1    ...           0     0.0   0.00000   1.000000   6.87500      0.0   0.5000   \n",
       "2    ...           0     0.5   0.00000   0.000000  12.12500      0.0   0.0000   \n",
       "3    ...           0     0.0   0.00000   0.000000   5.25000      0.0   0.0000   \n",
       "4    ...           0     0.0   0.00000   0.000000   0.50000      0.0   0.0000   \n",
       "\n",
       "   attr_14    attr_16    attr_17  \n",
       "0   42.375  21.796875   3.000000  \n",
       "1    2.500   9.000000   7.750000  \n",
       "2    2.500  29.593750  13.335938  \n",
       "3    3.000   9.000000   9.500000  \n",
       "4    1.000  42.500000   0.500000  \n",
       "\n",
       "[5 rows x 21 columns]"
      ]
     },
     "execution_count": 74,
     "metadata": {},
     "output_type": "execute_result"
    }
   ],
   "source": [
    "df7t.head()"
   ]
  },
  {
   "cell_type": "code",
   "execution_count": 75,
   "metadata": {
    "ExecuteTime": {
     "end_time": "2019-03-03T01:44:51.899146Z",
     "start_time": "2019-03-03T01:44:43.904871Z"
    }
   },
   "outputs": [],
   "source": [
    "df7t.to_csv(results_path + \"/traindata_7.csv\", index=False)"
   ]
  },
  {
   "cell_type": "markdown",
   "metadata": {},
   "source": [
    "# 14 Day Training dataset"
   ]
  },
  {
   "cell_type": "code",
   "execution_count": 76,
   "metadata": {
    "ExecuteTime": {
     "end_time": "2019-03-03T01:49:38.965416Z",
     "start_time": "2019-03-03T01:44:51.900700Z"
    },
    "scrolled": true
   },
   "outputs": [],
   "source": [
    "df14t_part = create_features(events, sessions, '2018-12-01', '2018-12-14')\n",
    "df_labels = create_labels(events, sessions, '2018-12-01', '2018-12-14')\n"
   ]
  },
  {
   "cell_type": "code",
   "execution_count": 77,
   "metadata": {
    "ExecuteTime": {
     "end_time": "2019-03-03T01:49:40.926945Z",
     "start_time": "2019-03-03T01:49:38.967196Z"
    }
   },
   "outputs": [],
   "source": [
    "df14t = pd.merge(df14t_part, df_labels)\n",
    "df14t = pd.merge(df14t, df_attr, on=\"user_id_hash\", how=\"left\")\n",
    "df14t = df14t.fillna(0)"
   ]
  },
  {
   "cell_type": "code",
   "execution_count": 78,
   "metadata": {
    "ExecuteTime": {
     "end_time": "2019-03-03T01:49:40.934428Z",
     "start_time": "2019-03-03T01:49:40.929673Z"
    }
   },
   "outputs": [
    {
     "data": {
      "text/plain": [
       "(621106, 21)"
      ]
     },
     "execution_count": 78,
     "metadata": {},
     "output_type": "execute_result"
    }
   ],
   "source": [
    "df14t.shape"
   ]
  },
  {
   "cell_type": "code",
   "execution_count": 79,
   "metadata": {
    "ExecuteTime": {
     "end_time": "2019-03-03T01:49:40.963797Z",
     "start_time": "2019-03-03T01:49:40.936863Z"
    }
   },
   "outputs": [
    {
     "data": {
      "text/html": [
       "<div>\n",
       "<style scoped>\n",
       "    .dataframe tbody tr th:only-of-type {\n",
       "        vertical-align: middle;\n",
       "    }\n",
       "\n",
       "    .dataframe tbody tr th {\n",
       "        vertical-align: top;\n",
       "    }\n",
       "\n",
       "    .dataframe thead th {\n",
       "        text-align: right;\n",
       "    }\n",
       "</style>\n",
       "<table border=\"1\" class=\"dataframe\">\n",
       "  <thead>\n",
       "    <tr style=\"text-align: right;\">\n",
       "      <th></th>\n",
       "      <th>user_id_hash</th>\n",
       "      <th>days_since_uc</th>\n",
       "      <th>days_used</th>\n",
       "      <th>session_num</th>\n",
       "      <th>session_duration_per_session</th>\n",
       "      <th>last_session_days</th>\n",
       "      <th>purchases_num</th>\n",
       "      <th>whether_purch</th>\n",
       "      <th>last14d_purch</th>\n",
       "      <th>purchases_num_per_day</th>\n",
       "      <th>...</th>\n",
       "      <th>target</th>\n",
       "      <th>attr_0</th>\n",
       "      <th>attr_1</th>\n",
       "      <th>attr_2</th>\n",
       "      <th>attr_8</th>\n",
       "      <th>attr_10</th>\n",
       "      <th>attr_13</th>\n",
       "      <th>attr_14</th>\n",
       "      <th>attr_16</th>\n",
       "      <th>attr_17</th>\n",
       "    </tr>\n",
       "  </thead>\n",
       "  <tbody>\n",
       "    <tr>\n",
       "      <th>0</th>\n",
       "      <td>00000db35682058bb7916cb90f85709f54c1a0f7a3b6de...</td>\n",
       "      <td>21</td>\n",
       "      <td>6</td>\n",
       "      <td>22.0</td>\n",
       "      <td>7.129631e+06</td>\n",
       "      <td>13.0</td>\n",
       "      <td>8.0</td>\n",
       "      <td>1</td>\n",
       "      <td>0.0</td>\n",
       "      <td>1.333333</td>\n",
       "      <td>...</td>\n",
       "      <td>0</td>\n",
       "      <td>2.0</td>\n",
       "      <td>37.78125</td>\n",
       "      <td>15.039062</td>\n",
       "      <td>42.90625</td>\n",
       "      <td>0.0</td>\n",
       "      <td>16.8125</td>\n",
       "      <td>42.375</td>\n",
       "      <td>21.796875</td>\n",
       "      <td>3.000000</td>\n",
       "    </tr>\n",
       "    <tr>\n",
       "      <th>1</th>\n",
       "      <td>000059859ec188af6035870faf885c3038cedda05b3a54...</td>\n",
       "      <td>9</td>\n",
       "      <td>4</td>\n",
       "      <td>10.0</td>\n",
       "      <td>4.524304e+06</td>\n",
       "      <td>6.0</td>\n",
       "      <td>1.0</td>\n",
       "      <td>1</td>\n",
       "      <td>1.0</td>\n",
       "      <td>0.250000</td>\n",
       "      <td>...</td>\n",
       "      <td>0</td>\n",
       "      <td>0.0</td>\n",
       "      <td>0.00000</td>\n",
       "      <td>1.000000</td>\n",
       "      <td>6.87500</td>\n",
       "      <td>0.0</td>\n",
       "      <td>0.5000</td>\n",
       "      <td>2.500</td>\n",
       "      <td>9.000000</td>\n",
       "      <td>7.750000</td>\n",
       "    </tr>\n",
       "    <tr>\n",
       "      <th>2</th>\n",
       "      <td>000062e9be78f3da274fec338e78f89d12000e781967f2...</td>\n",
       "      <td>55</td>\n",
       "      <td>7</td>\n",
       "      <td>27.0</td>\n",
       "      <td>1.025302e+07</td>\n",
       "      <td>48.0</td>\n",
       "      <td>0.0</td>\n",
       "      <td>0</td>\n",
       "      <td>0.0</td>\n",
       "      <td>0.000000</td>\n",
       "      <td>...</td>\n",
       "      <td>0</td>\n",
       "      <td>0.5</td>\n",
       "      <td>0.00000</td>\n",
       "      <td>0.000000</td>\n",
       "      <td>12.12500</td>\n",
       "      <td>0.0</td>\n",
       "      <td>0.0000</td>\n",
       "      <td>2.500</td>\n",
       "      <td>29.593750</td>\n",
       "      <td>13.335938</td>\n",
       "    </tr>\n",
       "    <tr>\n",
       "      <th>3</th>\n",
       "      <td>00006ad44c0d33a2a526caf75514643639b7b7070dfffd...</td>\n",
       "      <td>44</td>\n",
       "      <td>3</td>\n",
       "      <td>7.0</td>\n",
       "      <td>4.104550e+06</td>\n",
       "      <td>42.0</td>\n",
       "      <td>0.0</td>\n",
       "      <td>0</td>\n",
       "      <td>0.0</td>\n",
       "      <td>0.000000</td>\n",
       "      <td>...</td>\n",
       "      <td>0</td>\n",
       "      <td>0.0</td>\n",
       "      <td>0.00000</td>\n",
       "      <td>0.000000</td>\n",
       "      <td>5.25000</td>\n",
       "      <td>0.0</td>\n",
       "      <td>0.0000</td>\n",
       "      <td>3.000</td>\n",
       "      <td>9.000000</td>\n",
       "      <td>9.500000</td>\n",
       "    </tr>\n",
       "    <tr>\n",
       "      <th>4</th>\n",
       "      <td>000081a7d841b0f953bdba6c185fd5cc335fd6015a30c3...</td>\n",
       "      <td>9</td>\n",
       "      <td>3</td>\n",
       "      <td>3.0</td>\n",
       "      <td>9.135007e+05</td>\n",
       "      <td>7.0</td>\n",
       "      <td>0.0</td>\n",
       "      <td>0</td>\n",
       "      <td>0.0</td>\n",
       "      <td>0.000000</td>\n",
       "      <td>...</td>\n",
       "      <td>0</td>\n",
       "      <td>0.0</td>\n",
       "      <td>0.00000</td>\n",
       "      <td>0.000000</td>\n",
       "      <td>0.50000</td>\n",
       "      <td>0.0</td>\n",
       "      <td>0.0000</td>\n",
       "      <td>1.000</td>\n",
       "      <td>42.500000</td>\n",
       "      <td>0.500000</td>\n",
       "    </tr>\n",
       "  </tbody>\n",
       "</table>\n",
       "<p>5 rows × 21 columns</p>\n",
       "</div>"
      ],
      "text/plain": [
       "                                        user_id_hash  days_since_uc  \\\n",
       "0  00000db35682058bb7916cb90f85709f54c1a0f7a3b6de...             21   \n",
       "1  000059859ec188af6035870faf885c3038cedda05b3a54...              9   \n",
       "2  000062e9be78f3da274fec338e78f89d12000e781967f2...             55   \n",
       "3  00006ad44c0d33a2a526caf75514643639b7b7070dfffd...             44   \n",
       "4  000081a7d841b0f953bdba6c185fd5cc335fd6015a30c3...              9   \n",
       "\n",
       "   days_used  session_num  session_duration_per_session  last_session_days  \\\n",
       "0          6         22.0                  7.129631e+06               13.0   \n",
       "1          4         10.0                  4.524304e+06                6.0   \n",
       "2          7         27.0                  1.025302e+07               48.0   \n",
       "3          3          7.0                  4.104550e+06               42.0   \n",
       "4          3          3.0                  9.135007e+05                7.0   \n",
       "\n",
       "   purchases_num  whether_purch  last14d_purch  purchases_num_per_day  \\\n",
       "0            8.0              1            0.0               1.333333   \n",
       "1            1.0              1            1.0               0.250000   \n",
       "2            0.0              0            0.0               0.000000   \n",
       "3            0.0              0            0.0               0.000000   \n",
       "4            0.0              0            0.0               0.000000   \n",
       "\n",
       "     ...      target  attr_0    attr_1     attr_2    attr_8  attr_10  attr_13  \\\n",
       "0    ...           0     2.0  37.78125  15.039062  42.90625      0.0  16.8125   \n",
       "1    ...           0     0.0   0.00000   1.000000   6.87500      0.0   0.5000   \n",
       "2    ...           0     0.5   0.00000   0.000000  12.12500      0.0   0.0000   \n",
       "3    ...           0     0.0   0.00000   0.000000   5.25000      0.0   0.0000   \n",
       "4    ...           0     0.0   0.00000   0.000000   0.50000      0.0   0.0000   \n",
       "\n",
       "   attr_14    attr_16    attr_17  \n",
       "0   42.375  21.796875   3.000000  \n",
       "1    2.500   9.000000   7.750000  \n",
       "2    2.500  29.593750  13.335938  \n",
       "3    3.000   9.000000   9.500000  \n",
       "4    1.000  42.500000   0.500000  \n",
       "\n",
       "[5 rows x 21 columns]"
      ]
     },
     "execution_count": 79,
     "metadata": {},
     "output_type": "execute_result"
    }
   ],
   "source": [
    "df14t.head()"
   ]
  },
  {
   "cell_type": "code",
   "execution_count": 80,
   "metadata": {
    "ExecuteTime": {
     "end_time": "2019-03-03T01:49:48.845479Z",
     "start_time": "2019-03-03T01:49:40.965773Z"
    }
   },
   "outputs": [],
   "source": [
    "df14t.to_csv(results_path + \"/traindata_14.csv\", index=False)"
   ]
  },
  {
   "cell_type": "markdown",
   "metadata": {},
   "source": [
    "# 7 Day Entire dataset"
   ]
  },
  {
   "cell_type": "code",
   "execution_count": 81,
   "metadata": {
    "ExecuteTime": {
     "end_time": "2019-03-03T01:54:17.823546Z",
     "start_time": "2019-03-03T01:49:48.848077Z"
    }
   },
   "outputs": [],
   "source": [
    "df7a_part = create_features(events, sessions, '2018-12-14', '2018-12-20')\n"
   ]
  },
  {
   "cell_type": "code",
   "execution_count": 82,
   "metadata": {
    "ExecuteTime": {
     "end_time": "2019-03-03T01:54:18.779283Z",
     "start_time": "2019-03-03T01:54:17.825339Z"
    }
   },
   "outputs": [],
   "source": [
    "df7a = pd.merge(df7a_part, df_attr)"
   ]
  },
  {
   "cell_type": "code",
   "execution_count": 83,
   "metadata": {
    "ExecuteTime": {
     "end_time": "2019-03-03T01:54:18.801733Z",
     "start_time": "2019-03-03T01:54:18.781308Z"
    }
   },
   "outputs": [
    {
     "data": {
      "text/html": [
       "<div>\n",
       "<style scoped>\n",
       "    .dataframe tbody tr th:only-of-type {\n",
       "        vertical-align: middle;\n",
       "    }\n",
       "\n",
       "    .dataframe tbody tr th {\n",
       "        vertical-align: top;\n",
       "    }\n",
       "\n",
       "    .dataframe thead th {\n",
       "        text-align: right;\n",
       "    }\n",
       "</style>\n",
       "<table border=\"1\" class=\"dataframe\">\n",
       "  <thead>\n",
       "    <tr style=\"text-align: right;\">\n",
       "      <th></th>\n",
       "      <th>user_id_hash</th>\n",
       "      <th>days_since_uc</th>\n",
       "      <th>days_used</th>\n",
       "      <th>session_num</th>\n",
       "      <th>session_duration_per_session</th>\n",
       "      <th>last_session_days</th>\n",
       "      <th>purchases_num</th>\n",
       "      <th>whether_purch</th>\n",
       "      <th>last7d_purch</th>\n",
       "      <th>purchases_num_per_day</th>\n",
       "      <th>session_num_per_day</th>\n",
       "      <th>attr_0</th>\n",
       "      <th>attr_1</th>\n",
       "      <th>attr_2</th>\n",
       "      <th>attr_8</th>\n",
       "      <th>attr_10</th>\n",
       "      <th>attr_13</th>\n",
       "      <th>attr_14</th>\n",
       "      <th>attr_16</th>\n",
       "      <th>attr_17</th>\n",
       "    </tr>\n",
       "  </thead>\n",
       "  <tbody>\n",
       "    <tr>\n",
       "      <th>0</th>\n",
       "      <td>00000db35682058bb7916cb90f85709f54c1a0f7a3b6de...</td>\n",
       "      <td>34</td>\n",
       "      <td>6</td>\n",
       "      <td>23.0</td>\n",
       "      <td>7.693981e+06</td>\n",
       "      <td>0.0</td>\n",
       "      <td>8.0</td>\n",
       "      <td>1</td>\n",
       "      <td>0.0</td>\n",
       "      <td>1.333333</td>\n",
       "      <td>3.833333</td>\n",
       "      <td>2.0</td>\n",
       "      <td>37.78125</td>\n",
       "      <td>15.039062</td>\n",
       "      <td>42.90625</td>\n",
       "      <td>0.0</td>\n",
       "      <td>16.8125</td>\n",
       "      <td>42.375</td>\n",
       "      <td>21.796875</td>\n",
       "      <td>3.000000</td>\n",
       "    </tr>\n",
       "    <tr>\n",
       "      <th>1</th>\n",
       "      <td>000059859ec188af6035870faf885c3038cedda05b3a54...</td>\n",
       "      <td>22</td>\n",
       "      <td>4</td>\n",
       "      <td>10.0</td>\n",
       "      <td>4.524304e+06</td>\n",
       "      <td>19.0</td>\n",
       "      <td>1.0</td>\n",
       "      <td>1</td>\n",
       "      <td>0.0</td>\n",
       "      <td>0.250000</td>\n",
       "      <td>2.500000</td>\n",
       "      <td>0.0</td>\n",
       "      <td>0.00000</td>\n",
       "      <td>1.000000</td>\n",
       "      <td>6.87500</td>\n",
       "      <td>0.0</td>\n",
       "      <td>0.5000</td>\n",
       "      <td>2.500</td>\n",
       "      <td>9.000000</td>\n",
       "      <td>7.750000</td>\n",
       "    </tr>\n",
       "    <tr>\n",
       "      <th>2</th>\n",
       "      <td>000062e9be78f3da274fec338e78f89d12000e781967f2...</td>\n",
       "      <td>68</td>\n",
       "      <td>7</td>\n",
       "      <td>27.0</td>\n",
       "      <td>1.025302e+07</td>\n",
       "      <td>61.0</td>\n",
       "      <td>0.0</td>\n",
       "      <td>0</td>\n",
       "      <td>0.0</td>\n",
       "      <td>0.000000</td>\n",
       "      <td>3.857143</td>\n",
       "      <td>0.5</td>\n",
       "      <td>0.00000</td>\n",
       "      <td>0.000000</td>\n",
       "      <td>12.12500</td>\n",
       "      <td>0.0</td>\n",
       "      <td>0.0000</td>\n",
       "      <td>2.500</td>\n",
       "      <td>29.593750</td>\n",
       "      <td>13.335938</td>\n",
       "    </tr>\n",
       "    <tr>\n",
       "      <th>3</th>\n",
       "      <td>00006ad44c0d33a2a526caf75514643639b7b7070dfffd...</td>\n",
       "      <td>57</td>\n",
       "      <td>3</td>\n",
       "      <td>7.0</td>\n",
       "      <td>4.104550e+06</td>\n",
       "      <td>55.0</td>\n",
       "      <td>0.0</td>\n",
       "      <td>0</td>\n",
       "      <td>0.0</td>\n",
       "      <td>0.000000</td>\n",
       "      <td>2.333333</td>\n",
       "      <td>0.0</td>\n",
       "      <td>0.00000</td>\n",
       "      <td>0.000000</td>\n",
       "      <td>5.25000</td>\n",
       "      <td>0.0</td>\n",
       "      <td>0.0000</td>\n",
       "      <td>3.000</td>\n",
       "      <td>9.000000</td>\n",
       "      <td>9.500000</td>\n",
       "    </tr>\n",
       "    <tr>\n",
       "      <th>4</th>\n",
       "      <td>000081a7d841b0f953bdba6c185fd5cc335fd6015a30c3...</td>\n",
       "      <td>22</td>\n",
       "      <td>3</td>\n",
       "      <td>3.0</td>\n",
       "      <td>9.135007e+05</td>\n",
       "      <td>20.0</td>\n",
       "      <td>0.0</td>\n",
       "      <td>0</td>\n",
       "      <td>0.0</td>\n",
       "      <td>0.000000</td>\n",
       "      <td>1.000000</td>\n",
       "      <td>0.0</td>\n",
       "      <td>0.00000</td>\n",
       "      <td>0.000000</td>\n",
       "      <td>0.50000</td>\n",
       "      <td>0.0</td>\n",
       "      <td>0.0000</td>\n",
       "      <td>1.000</td>\n",
       "      <td>42.500000</td>\n",
       "      <td>0.500000</td>\n",
       "    </tr>\n",
       "  </tbody>\n",
       "</table>\n",
       "</div>"
      ],
      "text/plain": [
       "                                        user_id_hash  days_since_uc  \\\n",
       "0  00000db35682058bb7916cb90f85709f54c1a0f7a3b6de...             34   \n",
       "1  000059859ec188af6035870faf885c3038cedda05b3a54...             22   \n",
       "2  000062e9be78f3da274fec338e78f89d12000e781967f2...             68   \n",
       "3  00006ad44c0d33a2a526caf75514643639b7b7070dfffd...             57   \n",
       "4  000081a7d841b0f953bdba6c185fd5cc335fd6015a30c3...             22   \n",
       "\n",
       "   days_used  session_num  session_duration_per_session  last_session_days  \\\n",
       "0          6         23.0                  7.693981e+06                0.0   \n",
       "1          4         10.0                  4.524304e+06               19.0   \n",
       "2          7         27.0                  1.025302e+07               61.0   \n",
       "3          3          7.0                  4.104550e+06               55.0   \n",
       "4          3          3.0                  9.135007e+05               20.0   \n",
       "\n",
       "   purchases_num  whether_purch  last7d_purch  purchases_num_per_day  \\\n",
       "0            8.0              1           0.0               1.333333   \n",
       "1            1.0              1           0.0               0.250000   \n",
       "2            0.0              0           0.0               0.000000   \n",
       "3            0.0              0           0.0               0.000000   \n",
       "4            0.0              0           0.0               0.000000   \n",
       "\n",
       "   session_num_per_day  attr_0    attr_1     attr_2    attr_8  attr_10  \\\n",
       "0             3.833333     2.0  37.78125  15.039062  42.90625      0.0   \n",
       "1             2.500000     0.0   0.00000   1.000000   6.87500      0.0   \n",
       "2             3.857143     0.5   0.00000   0.000000  12.12500      0.0   \n",
       "3             2.333333     0.0   0.00000   0.000000   5.25000      0.0   \n",
       "4             1.000000     0.0   0.00000   0.000000   0.50000      0.0   \n",
       "\n",
       "   attr_13  attr_14    attr_16    attr_17  \n",
       "0  16.8125   42.375  21.796875   3.000000  \n",
       "1   0.5000    2.500   9.000000   7.750000  \n",
       "2   0.0000    2.500  29.593750  13.335938  \n",
       "3   0.0000    3.000   9.000000   9.500000  \n",
       "4   0.0000    1.000  42.500000   0.500000  "
      ]
     },
     "execution_count": 83,
     "metadata": {},
     "output_type": "execute_result"
    }
   ],
   "source": [
    "df7a.head()"
   ]
  },
  {
   "cell_type": "code",
   "execution_count": 84,
   "metadata": {
    "ExecuteTime": {
     "end_time": "2019-03-03T01:54:26.244963Z",
     "start_time": "2019-03-03T01:54:18.803372Z"
    }
   },
   "outputs": [],
   "source": [
    "df7a.to_csv(results_path + \"/allfeatures_7.csv\", index=False)"
   ]
  },
  {
   "cell_type": "markdown",
   "metadata": {},
   "source": [
    "# 14 Day Entire dataset"
   ]
  },
  {
   "cell_type": "code",
   "execution_count": 85,
   "metadata": {
    "ExecuteTime": {
     "end_time": "2019-03-03T01:58:43.455345Z",
     "start_time": "2019-03-03T01:54:26.246526Z"
    }
   },
   "outputs": [],
   "source": [
    "df14a_part = create_features(events, sessions, '2018-12-14', '2018-12-27')\n"
   ]
  },
  {
   "cell_type": "code",
   "execution_count": 86,
   "metadata": {
    "ExecuteTime": {
     "end_time": "2019-03-03T01:58:44.389865Z",
     "start_time": "2019-03-03T01:58:43.457170Z"
    }
   },
   "outputs": [],
   "source": [
    "df14a = pd.merge(df14a_part, df_attr)"
   ]
  },
  {
   "cell_type": "code",
   "execution_count": 87,
   "metadata": {
    "ExecuteTime": {
     "end_time": "2019-03-03T01:58:44.410984Z",
     "start_time": "2019-03-03T01:58:44.391344Z"
    }
   },
   "outputs": [
    {
     "data": {
      "text/html": [
       "<div>\n",
       "<style scoped>\n",
       "    .dataframe tbody tr th:only-of-type {\n",
       "        vertical-align: middle;\n",
       "    }\n",
       "\n",
       "    .dataframe tbody tr th {\n",
       "        vertical-align: top;\n",
       "    }\n",
       "\n",
       "    .dataframe thead th {\n",
       "        text-align: right;\n",
       "    }\n",
       "</style>\n",
       "<table border=\"1\" class=\"dataframe\">\n",
       "  <thead>\n",
       "    <tr style=\"text-align: right;\">\n",
       "      <th></th>\n",
       "      <th>user_id_hash</th>\n",
       "      <th>days_since_uc</th>\n",
       "      <th>days_used</th>\n",
       "      <th>session_num</th>\n",
       "      <th>session_duration_per_session</th>\n",
       "      <th>last_session_days</th>\n",
       "      <th>purchases_num</th>\n",
       "      <th>whether_purch</th>\n",
       "      <th>last14d_purch</th>\n",
       "      <th>purchases_num_per_day</th>\n",
       "      <th>session_num_per_day</th>\n",
       "      <th>attr_0</th>\n",
       "      <th>attr_1</th>\n",
       "      <th>attr_2</th>\n",
       "      <th>attr_8</th>\n",
       "      <th>attr_10</th>\n",
       "      <th>attr_13</th>\n",
       "      <th>attr_14</th>\n",
       "      <th>attr_16</th>\n",
       "      <th>attr_17</th>\n",
       "    </tr>\n",
       "  </thead>\n",
       "  <tbody>\n",
       "    <tr>\n",
       "      <th>0</th>\n",
       "      <td>00000db35682058bb7916cb90f85709f54c1a0f7a3b6de...</td>\n",
       "      <td>34</td>\n",
       "      <td>6</td>\n",
       "      <td>23.0</td>\n",
       "      <td>7.693981e+06</td>\n",
       "      <td>0.0</td>\n",
       "      <td>8.0</td>\n",
       "      <td>1</td>\n",
       "      <td>0.0</td>\n",
       "      <td>1.333333</td>\n",
       "      <td>3.833333</td>\n",
       "      <td>2.0</td>\n",
       "      <td>37.78125</td>\n",
       "      <td>15.039062</td>\n",
       "      <td>42.90625</td>\n",
       "      <td>0.0</td>\n",
       "      <td>16.8125</td>\n",
       "      <td>42.375</td>\n",
       "      <td>21.796875</td>\n",
       "      <td>3.000000</td>\n",
       "    </tr>\n",
       "    <tr>\n",
       "      <th>1</th>\n",
       "      <td>000059859ec188af6035870faf885c3038cedda05b3a54...</td>\n",
       "      <td>22</td>\n",
       "      <td>4</td>\n",
       "      <td>10.0</td>\n",
       "      <td>4.524304e+06</td>\n",
       "      <td>19.0</td>\n",
       "      <td>1.0</td>\n",
       "      <td>1</td>\n",
       "      <td>0.0</td>\n",
       "      <td>0.250000</td>\n",
       "      <td>2.500000</td>\n",
       "      <td>0.0</td>\n",
       "      <td>0.00000</td>\n",
       "      <td>1.000000</td>\n",
       "      <td>6.87500</td>\n",
       "      <td>0.0</td>\n",
       "      <td>0.5000</td>\n",
       "      <td>2.500</td>\n",
       "      <td>9.000000</td>\n",
       "      <td>7.750000</td>\n",
       "    </tr>\n",
       "    <tr>\n",
       "      <th>2</th>\n",
       "      <td>000062e9be78f3da274fec338e78f89d12000e781967f2...</td>\n",
       "      <td>68</td>\n",
       "      <td>7</td>\n",
       "      <td>27.0</td>\n",
       "      <td>1.025302e+07</td>\n",
       "      <td>61.0</td>\n",
       "      <td>0.0</td>\n",
       "      <td>0</td>\n",
       "      <td>0.0</td>\n",
       "      <td>0.000000</td>\n",
       "      <td>3.857143</td>\n",
       "      <td>0.5</td>\n",
       "      <td>0.00000</td>\n",
       "      <td>0.000000</td>\n",
       "      <td>12.12500</td>\n",
       "      <td>0.0</td>\n",
       "      <td>0.0000</td>\n",
       "      <td>2.500</td>\n",
       "      <td>29.593750</td>\n",
       "      <td>13.335938</td>\n",
       "    </tr>\n",
       "    <tr>\n",
       "      <th>3</th>\n",
       "      <td>00006ad44c0d33a2a526caf75514643639b7b7070dfffd...</td>\n",
       "      <td>57</td>\n",
       "      <td>3</td>\n",
       "      <td>7.0</td>\n",
       "      <td>4.104550e+06</td>\n",
       "      <td>55.0</td>\n",
       "      <td>0.0</td>\n",
       "      <td>0</td>\n",
       "      <td>0.0</td>\n",
       "      <td>0.000000</td>\n",
       "      <td>2.333333</td>\n",
       "      <td>0.0</td>\n",
       "      <td>0.00000</td>\n",
       "      <td>0.000000</td>\n",
       "      <td>5.25000</td>\n",
       "      <td>0.0</td>\n",
       "      <td>0.0000</td>\n",
       "      <td>3.000</td>\n",
       "      <td>9.000000</td>\n",
       "      <td>9.500000</td>\n",
       "    </tr>\n",
       "    <tr>\n",
       "      <th>4</th>\n",
       "      <td>000081a7d841b0f953bdba6c185fd5cc335fd6015a30c3...</td>\n",
       "      <td>22</td>\n",
       "      <td>3</td>\n",
       "      <td>3.0</td>\n",
       "      <td>9.135007e+05</td>\n",
       "      <td>20.0</td>\n",
       "      <td>0.0</td>\n",
       "      <td>0</td>\n",
       "      <td>0.0</td>\n",
       "      <td>0.000000</td>\n",
       "      <td>1.000000</td>\n",
       "      <td>0.0</td>\n",
       "      <td>0.00000</td>\n",
       "      <td>0.000000</td>\n",
       "      <td>0.50000</td>\n",
       "      <td>0.0</td>\n",
       "      <td>0.0000</td>\n",
       "      <td>1.000</td>\n",
       "      <td>42.500000</td>\n",
       "      <td>0.500000</td>\n",
       "    </tr>\n",
       "  </tbody>\n",
       "</table>\n",
       "</div>"
      ],
      "text/plain": [
       "                                        user_id_hash  days_since_uc  \\\n",
       "0  00000db35682058bb7916cb90f85709f54c1a0f7a3b6de...             34   \n",
       "1  000059859ec188af6035870faf885c3038cedda05b3a54...             22   \n",
       "2  000062e9be78f3da274fec338e78f89d12000e781967f2...             68   \n",
       "3  00006ad44c0d33a2a526caf75514643639b7b7070dfffd...             57   \n",
       "4  000081a7d841b0f953bdba6c185fd5cc335fd6015a30c3...             22   \n",
       "\n",
       "   days_used  session_num  session_duration_per_session  last_session_days  \\\n",
       "0          6         23.0                  7.693981e+06                0.0   \n",
       "1          4         10.0                  4.524304e+06               19.0   \n",
       "2          7         27.0                  1.025302e+07               61.0   \n",
       "3          3          7.0                  4.104550e+06               55.0   \n",
       "4          3          3.0                  9.135007e+05               20.0   \n",
       "\n",
       "   purchases_num  whether_purch  last14d_purch  purchases_num_per_day  \\\n",
       "0            8.0              1            0.0               1.333333   \n",
       "1            1.0              1            0.0               0.250000   \n",
       "2            0.0              0            0.0               0.000000   \n",
       "3            0.0              0            0.0               0.000000   \n",
       "4            0.0              0            0.0               0.000000   \n",
       "\n",
       "   session_num_per_day  attr_0    attr_1     attr_2    attr_8  attr_10  \\\n",
       "0             3.833333     2.0  37.78125  15.039062  42.90625      0.0   \n",
       "1             2.500000     0.0   0.00000   1.000000   6.87500      0.0   \n",
       "2             3.857143     0.5   0.00000   0.000000  12.12500      0.0   \n",
       "3             2.333333     0.0   0.00000   0.000000   5.25000      0.0   \n",
       "4             1.000000     0.0   0.00000   0.000000   0.50000      0.0   \n",
       "\n",
       "   attr_13  attr_14    attr_16    attr_17  \n",
       "0  16.8125   42.375  21.796875   3.000000  \n",
       "1   0.5000    2.500   9.000000   7.750000  \n",
       "2   0.0000    2.500  29.593750  13.335938  \n",
       "3   0.0000    3.000   9.000000   9.500000  \n",
       "4   0.0000    1.000  42.500000   0.500000  "
      ]
     },
     "execution_count": 87,
     "metadata": {},
     "output_type": "execute_result"
    }
   ],
   "source": [
    "df14a.head()"
   ]
  },
  {
   "cell_type": "code",
   "execution_count": 88,
   "metadata": {
    "ExecuteTime": {
     "end_time": "2019-03-03T01:58:51.913283Z",
     "start_time": "2019-03-03T01:58:44.412918Z"
    }
   },
   "outputs": [],
   "source": [
    "df14a.to_csv(results_path + \"/allfeatures_14.csv\", index=False)"
   ]
  },
  {
   "cell_type": "code",
   "execution_count": null,
   "metadata": {},
   "outputs": [],
   "source": []
  },
  {
   "cell_type": "code",
   "execution_count": null,
   "metadata": {},
   "outputs": [],
   "source": []
  }
 ],
 "metadata": {
  "kernelspec": {
   "display_name": "Python 3",
   "language": "python",
   "name": "python3"
  },
  "language_info": {
   "codemirror_mode": {
    "name": "ipython",
    "version": 3
   },
   "file_extension": ".py",
   "mimetype": "text/x-python",
   "name": "python",
   "nbconvert_exporter": "python",
   "pygments_lexer": "ipython3",
   "version": "3.6.6"
  },
  "toc": {
   "base_numbering": 1,
   "nav_menu": {},
   "number_sections": true,
   "sideBar": true,
   "skip_h1_title": false,
   "title_cell": "Table of Contents",
   "title_sidebar": "Contents",
   "toc_cell": false,
   "toc_position": {},
   "toc_section_display": true,
   "toc_window_display": false
  }
 },
 "nbformat": 4,
 "nbformat_minor": 2
}
